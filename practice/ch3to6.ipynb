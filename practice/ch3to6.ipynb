{
 "cells": [
  {
   "cell_type": "markdown",
   "metadata": {},
   "source": [
    "# 3. 신경망\n",
    "## 3.1 신경망의 구조\n",
    "### 3.1.1 신경망의 예\n",
    "- 입력층(input layer), 은닉층(hidden layer), 출력층(output layer)으로 구성\n",
    "- 은닉층의 뉴런은 보이지 않음\n",
    "\n",
    "### 3.1.2 퍼셉트론 복습\n",
    "- 퍼셉트론(perceptron): 다수의 신호를 입력으로 받아 하나의 신호를 출력, 인지에 대한 기본단위\n",
    "$$y = \\begin{cases} 0 & (b + w_1x_1 + w_2x_2 \\leq 0) \\\\ 1 & (b + w_1x_1 + w_2x_2 > 0) \\end{cases}$$\n",
    "- $b$: 편향(bias) , 뉴런이 얼마나 쉽게 활성화되는지 제어\n",
    "- $w_1, w_2$: 가중치(weight), 각 신호의 영향력 제어\n",
    "- $x_1, x_2$: 입력 신호\n",
    "- $y$: 출력\n",
    "\n",
    "\n",
    "\n",
    "### 3.1.3 활성화 함수등장\n",
    "- 활성화 함수(activation function): 입력 신호의 총합을 출력 신호로 변환하는 함수\n",
    "- 활성화 함수를 이용해 신경망의 표현력을 높일 수 있음\n",
    "- 단순 퍼셉트론은 단층 네트워크에서 step function(계단 함수)를 활성화 함수로 사용한 모델\n",
    "- 다층 퍼셉트론은 다층 네트워크에서 sigmoid, ReLU 등의 매끈한 활성화 함수 사용\n",
    "- unit-step function(활성함수)\n",
    "    - 비선형 함수로 임계값을 기준으로 0과 1로 나눔\n",
    "    - 임계값을 넘겨서 bias로 바꿈 hyposis함수 만듬\n",
    "\n",
    "$y = \\begin{Bmatrix}  0, w_1x_1 + w_2x_2 <=\\Theta\n",
    "\\\\ 1, w_1x_1 + w_2x_2 > \\Theta\n",
    "\\end{Bmatrix}$\n",
    "## 3.2 활성화 함수\n",
    "$$h(x) = \\begin{cases} 0 & (x \\leq 0) \\\\ 1 & (x > 0) \\end{cases}$$\n",
    "- 계단 함수(step function): 임계값을 경계로 출력이 바뀌는 함수\n",
    "\n",
    "### 3.2.1 시그모이드 함수\n",
    "$$h(x) = \\frac{1}{1 + \\exp(-x)}$$\n",
    "- 시그모이드 함수(sigmoid function): 입력 신호의 총합을 0에서 1 사이의 값으로 변환\n",
    "- 변환된 신호를 다음 뉴런에 전달\n",
    "\n"
   ]
  },
  {
   "cell_type": "markdown",
   "metadata": {},
   "source": [
    "### 3.2.2 계단 함수 구현하기"
   ]
  },
  {
   "cell_type": "code",
   "execution_count": 2,
   "metadata": {},
   "outputs": [],
   "source": [
    "def step_function(x):\n",
    "    if x>0 :\n",
    "        return 1\n",
    "    else:\n",
    "        return 0"
   ]
  },
  {
   "cell_type": "code",
   "execution_count": 3,
   "metadata": {},
   "outputs": [],
   "source": [
    "import numpy as np\n",
    "def step_fuction(x):\n",
    "    y = x>0\n",
    "    return y.astype(np.int)"
   ]
  },
  {
   "cell_type": "code",
   "execution_count": 4,
   "metadata": {},
   "outputs": [
    {
     "data": {
      "text/plain": [
       "array([False,  True,  True])"
      ]
     },
     "execution_count": 4,
     "metadata": {},
     "output_type": "execute_result"
    }
   ],
   "source": [
    "x = np.array([-1.0, 1.0, 2.0]) \n",
    "y = x>0\n",
    "y"
   ]
  },
  {
   "cell_type": "code",
   "execution_count": 5,
   "metadata": {},
   "outputs": [
    {
     "name": "stderr",
     "output_type": "stream",
     "text": [
      "C:\\Users\\dmswl\\AppData\\Local\\Temp\\ipykernel_7568\\3891679544.py:5: DeprecationWarning: `np.int` is a deprecated alias for the builtin `int`. To silence this warning, use `int` by itself. Doing this will not modify any behavior and is safe. When replacing `np.int`, you may wish to use e.g. `np.int64` or `np.int32` to specify the precision. If you wish to review your current use, check the release note link for additional information.\n",
      "Deprecated in NumPy 1.20; for more details and guidance: https://numpy.org/devdocs/release/1.20.0-notes.html#deprecations\n",
      "  return np.array(x>0, dtype=np.int)\n"
     ]
    },
    {
     "data": {
      "image/png": "[encoded data removed]",
      "text/plain": [
       "<Figure size 640x480 with 1 Axes>"
      ]
     },
     "metadata": {},
     "output_type": "display_data"
    }
   ],
   "source": [
    "import numpy as np\n",
    "import matplotlib.pylab as plt\n",
    "\n",
    "def step_function(x):\n",
    "    return np.array(x>0, dtype=np.int)\n",
    "\n",
    "x = np.arange(-5.0, 5.0, 0.1)\n",
    "y = step_function(x)\n",
    "plt.plot(x, y)\n",
    "plt.ylim(-0.1, 1.1)\n",
    "plt.show()"
   ]
  },
  {
   "cell_type": "markdown",
   "metadata": {},
   "source": [
    "### 3.2.4 시그모이드 함수 구현하기"
   ]
  },
  {
   "cell_type": "code",
   "execution_count": 6,
   "metadata": {},
   "outputs": [
    {
     "data": {
      "text/plain": [
       "array([0.26894142, 0.73105858, 0.88079708])"
      ]
     },
     "execution_count": 6,
     "metadata": {},
     "output_type": "execute_result"
    }
   ],
   "source": [
    "def sigmoid(x):\n",
    "    return 1 / (1 + np.exp(-x))\n",
    "\n",
    "x = np.array([-1.0, 1.0, 2.0])\n",
    "sigmoid(x)"
   ]
  },
  {
   "cell_type": "code",
   "execution_count": 7,
   "metadata": {},
   "outputs": [
    {
     "name": "stdout",
     "output_type": "stream",
     "text": [
      "[2. 3. 4.] [1.         0.5        0.33333333]\n"
     ]
    }
   ],
   "source": [
    "t = np.array([1.0, 2.0, 3.0])\n",
    "print(1.0 + t, 1.0/t)"
   ]
  },
  {
   "cell_type": "code",
   "execution_count": 11,
   "metadata": {},
   "outputs": [
    {
     "data": {
      "image/png": "[encoded data removed]",
      "text/plain": [
       "<Figure size 640x480 with 1 Axes>"
      ]
     },
     "metadata": {},
     "output_type": "display_data"
    }
   ],
   "source": [
    "x = np.arange(-5.0, 5.0, 0.1)\n",
    "y = sigmoid(x)\n",
    "plt.plot(x, y)\n",
    "plt.ylim(-0.1, 1.1)\n",
    "plt.show()"
   ]
  },
  {
   "cell_type": "markdown",
   "metadata": {},
   "source": [
    "### 3.2.5 시그모이드 함수와 계단 함수 비교\n",
    "- 계단 함수: 0과 1 중 하나의 값만 출력\n",
    "- 시그모이드 함수: 연속적인 실수를 출력\n",
    "- 공통점 \n",
    "    - 입력이 작을 때 출력이 0에 가깝고, 입력이 커지면 출력이 1에 가까워짐\n",
    "    - 입력이 아무리 작거나 커도 출력은 0에서 1 사이\n"
   ]
  },
  {
   "cell_type": "markdown",
   "metadata": {},
   "source": [
    "### 3.2.6 비선형함수\n",
    "- 선형 함수 : 출력이 입력의 상수배만큼 변하는 함수\n",
    "- 비선형 함수 : 직선 1개로는 그릴 수 없는 함수\n",
    "- 신경망에서 활성화 함수로 선형함수를 이용하면 신경망의 층을 깊게 하는 의미가 없어짐 -> 어차피 상수배가 되어 은닉층 없이 구현될 수 있음\n",
    "- tanh, ReLU 등의 비선형 함수를 사용"
   ]
  },
  {
   "cell_type": "markdown",
   "metadata": {},
   "source": [
    "### 3.2.7 ReLU 함수\n",
    "$$h(x) = \\begin{cases} x & (x > 0) \\\\ 0 & (x \\leq 0) \\end{cases}$$\n",
    "- ReLU 함수(Rectified Linear Unit): 입력이 0을 넘으면 그 입력을 그대로 출력, 0 이하일때 0을 출력"
   ]
  },
  {
   "cell_type": "code",
   "execution_count": 12,
   "metadata": {},
   "outputs": [],
   "source": [
    "def relu(x):\n",
    "    return np.maximum(0, x)"
   ]
  },
  {
   "cell_type": "markdown",
   "metadata": {},
   "source": [
    "## 3.3 다차원 배열의 계산\n",
    "### 3.3.1 다차원 배열\n",
    "- 다차원 배열: 행렬(matrix)을 일반화한 개념\n",
    "- 배열의 차원 수 : np.ndim()\n",
    "- 배열의 형상(shape): np.shape()\n",
    "- 배열의 데이터 타입(dtype): np.dtype()"
   ]
  },
  {
   "cell_type": "code",
   "execution_count": 13,
   "metadata": {},
   "outputs": [
    {
     "name": "stdout",
     "output_type": "stream",
     "text": [
      "1 (4,) 4\n"
     ]
    }
   ],
   "source": [
    "import numpy as np\n",
    "A = np.array([1, 2, 3, 4])\n",
    "print(np.ndim(A), A.shape, A.shape[0])"
   ]
  },
  {
   "cell_type": "code",
   "execution_count": 14,
   "metadata": {},
   "outputs": [
    {
     "name": "stdout",
     "output_type": "stream",
     "text": [
      "2 (3, 2)\n"
     ]
    }
   ],
   "source": [
    "B = np.array([[1,2], [3,4], [5,6]])\n",
    "print(np.ndim(B), B.shape)"
   ]
  },
  {
   "cell_type": "markdown",
   "metadata": {},
   "source": [
    "### 3.3.2 행렬의 내적(행렬 곱)\n",
    "- 행렬의 내적: np.dot(A, B)\n",
    "- 행렬의 형상이 다를 경우 내적 불가능"
   ]
  },
  {
   "cell_type": "code",
   "execution_count": 15,
   "metadata": {},
   "outputs": [
    {
     "name": "stdout",
     "output_type": "stream",
     "text": [
      "[[19 22]\n",
      " [43 50]]\n"
     ]
    }
   ],
   "source": [
    "A = np.array([[1,2], [3,4]])\n",
    "B = np.array([[5,6], [7,8]])\n",
    "print(np.dot(A, B))"
   ]
  },
  {
   "cell_type": "code",
   "execution_count": 17,
   "metadata": {},
   "outputs": [
    {
     "name": "stdout",
     "output_type": "stream",
     "text": [
      "[[22 28]\n",
      " [49 64]]\n"
     ]
    }
   ],
   "source": [
    "A = np.array([[1,2,3], [4,5,6]])\n",
    "B = np.array([[1,2], [3,4], [5,6]])\n",
    "print(np.dot(A, B))"
   ]
  },
  {
   "cell_type": "code",
   "execution_count": 18,
   "metadata": {},
   "outputs": [
    {
     "name": "stdout",
     "output_type": "stream",
     "text": [
      "(2, 3) (2, 2)\n"
     ]
    },
    {
     "ename": "ValueError",
     "evalue": "shapes (2,3) and (2,2) not aligned: 3 (dim 1) != 2 (dim 0)",
     "output_type": "error",
     "traceback": [
      "\u001b[1;31m---------------------------------------------------------------------------\u001b[0m",
      "\u001b[1;31mValueError\u001b[0m                                Traceback (most recent call last)",
      "Input \u001b[1;32mIn [18]\u001b[0m, in \u001b[0;36m<cell line: 3>\u001b[1;34m()\u001b[0m\n\u001b[0;32m      1\u001b[0m C \u001b[38;5;241m=\u001b[39m np\u001b[38;5;241m.\u001b[39marray([[\u001b[38;5;241m1\u001b[39m,\u001b[38;5;241m2\u001b[39m], [\u001b[38;5;241m3\u001b[39m,\u001b[38;5;241m4\u001b[39m]])\n\u001b[0;32m      2\u001b[0m \u001b[38;5;28mprint\u001b[39m(A\u001b[38;5;241m.\u001b[39mshape, C\u001b[38;5;241m.\u001b[39mshape)\n\u001b[1;32m----> 3\u001b[0m \u001b[38;5;28mprint\u001b[39m(\u001b[43mnp\u001b[49m\u001b[38;5;241;43m.\u001b[39;49m\u001b[43mdot\u001b[49m\u001b[43m(\u001b[49m\u001b[43mA\u001b[49m\u001b[43m,\u001b[49m\u001b[43m \u001b[49m\u001b[43mC\u001b[49m\u001b[43m)\u001b[49m)\n",
      "File \u001b[1;32m<__array_function__ internals>:180\u001b[0m, in \u001b[0;36mdot\u001b[1;34m(*args, **kwargs)\u001b[0m\n",
      "\u001b[1;31mValueError\u001b[0m: shapes (2,3) and (2,2) not aligned: 3 (dim 1) != 2 (dim 0)"
     ]
    }
   ],
   "source": [
    "C = np.array([[1,2], [3,4]])\n",
    "print(A.shape, C.shape)\n",
    "print(np.dot(A, C))"
   ]
  },
  {
   "cell_type": "code",
   "execution_count": 19,
   "metadata": {},
   "outputs": [
    {
     "name": "stdout",
     "output_type": "stream",
     "text": [
      "[23 53 83]\n"
     ]
    }
   ],
   "source": [
    "A = np.array([[1,2], [3,4], [5,6]])\n",
    "B = np.array([7,8])\n",
    "print(np.dot(A, B))"
   ]
  },
  {
   "cell_type": "markdown",
   "metadata": {},
   "source": [
    "### 3.3.3 신경망의 내적\n",
    "- 다차원 배열 내적 구하는 np.dot으로 한번에 결과 Y 계산"
   ]
  },
  {
   "cell_type": "code",
   "execution_count": 20,
   "metadata": {},
   "outputs": [
    {
     "name": "stdout",
     "output_type": "stream",
     "text": [
      "[ 5 11 17]\n"
     ]
    }
   ],
   "source": [
    "X = np.array([1, 2])\n",
    "W = np.array([[1, 3, 5], [2, 4, 6]])\n",
    "Y = np.dot(X, W)\n",
    "print(Y)"
   ]
  },
  {
   "cell_type": "markdown",
   "metadata": {},
   "source": [
    "## 3.4 3층 신경망 구현하기\n",
    "- 입력층(0층) : 2개의 뉴런\n",
    "- 첫 번째 은닉층(1층) : 3개의 뉴런\n",
    "- 두 번째 은닉층(2층) : 2개의 뉴런\n",
    "- 출력층(3층) : 2개의 뉴런\n",
    "\n",
    "### 3.4.1 표기법 설명\n",
    "- 가중치: $W^{(1)}_{1 2}$\n",
    "- $^{(1)}$ : 1층의 가중치\n",
    "- $_1$ : 다음층의 1번 째 뉴런\n",
    "- $_2$ : 앞층의 2번 째 뉴런"
   ]
  },
  {
   "cell_type": "markdown",
   "metadata": {},
   "source": [
    "### 3.4.2 각 층의 신호 전달 구현하기\n",
    "- $a^{(1)}_1 = W^{(1)}_{11}x_1 + W^{(1)}_{21}x_2 + b^{(1)}_1$\n",
    "- $A^{(1)} = XW^{(1)} + B^{(1)}$\n",
    "- $A^{(1)} = (a^{(1)}_1, a^{(1)}_2, a^{(1)}_3), X = (x_1, x_2), B^{(1)} = (b^{(1)}_1, b^{(1)}_2, b^{(1)}_3)$\n",
    "- $W^{(1)} = \\begin{pmatrix} W^{(1)}_{11} & W^{(1)}_{21} & W^{(1)}_{31} \\\\ W^{(1)}_{12} & W^{(1)}_{22} & W^{(1)}_{32} \\end{pmatrix}$\n"
   ]
  },
  {
   "cell_type": "code",
   "execution_count": 24,
   "metadata": {},
   "outputs": [
    {
     "name": "stdout",
     "output_type": "stream",
     "text": [
      "(2, 3) (2,) (3,)\n",
      "[0.3 0.7 1.1] [0.57444252 0.66818777 0.75026011]\n"
     ]
    }
   ],
   "source": [
    "X = np.array([1.0, 0.5])\n",
    "W1 = np.array([[0.1, 0.3, 0.5], [0.2, 0.4, 0.6]])\n",
    "B1 = np.array([0.1, 0.2, 0.3])\n",
    "\n",
    "print(W1.shape, X.shape, B1.shape)\n",
    "A1 = np.dot(X, W1) + B1\n",
    "Z1 = sigmoid(A1)\n",
    "\n",
    "print(A1, Z1)\n",
    "\n",
    "W2 = np.array([[0.1, 0.4], [0.2, 0.5], [0.3, 0.6]])\n",
    "B2 = np.array([0.1, 0.2])\n",
    "\n",
    "A2 = np.dot(Z1, W2) + B2\n",
    "Z2 = sigmoid(A2)\n",
    "\n",
    "def identity_function(x):\n",
    "    return x\n",
    "\n",
    "W3 = np.array([[0.1, 0.3], [0.2, 0.4]])\n",
    "B3 = np.array([0.1, 0.2])\n",
    "\n",
    "A3 = np.dot(Z2, W3) + B3\n",
    "Y = identity_function(A3)"
   ]
  },
  {
   "cell_type": "markdown",
   "metadata": {},
   "source": [
    "### 3.4.3 구현 정리"
   ]
  },
  {
   "cell_type": "code",
   "execution_count": 25,
   "metadata": {},
   "outputs": [
    {
     "name": "stdout",
     "output_type": "stream",
     "text": [
      "[0.31682708 0.69627909]\n"
     ]
    }
   ],
   "source": [
    "def init_network():\n",
    "    network = {}\n",
    "    network['W1'] = np.array([[0.1, 0.3, 0.5], [0.2, 0.4, 0.6]])\n",
    "    network['b1'] = np.array([0.1, 0.2, 0.3])\n",
    "    network['W2'] = np.array([[0.1, 0.4], [0.2, 0.5], [0.3, 0.6]])\n",
    "    network['b2'] = np.array([0.1, 0.2])\n",
    "    network['W3'] = np.array([[0.1, 0.3], [0.2, 0.4]])\n",
    "    network['b3'] = np.array([0.1, 0.2])\n",
    "\n",
    "    return network\n",
    "\n",
    "def forward(network, x):\n",
    "    W1, W2, W3 = network['W1'], network['W2'], network['W3']\n",
    "    b1, b2, b3 = network['b1'], network['b2'], network['b3']\n",
    "\n",
    "    a1 = np.dot(x, W1) + b1\n",
    "    z1 = sigmoid(a1)\n",
    "    a2 = np.dot(z1, W2) + b2\n",
    "    z2 = sigmoid(a2)\n",
    "    a3 = np.dot(z2, W3) + b3\n",
    "    y = identity_function(a3)\n",
    "\n",
    "    return y\n",
    "\n",
    "network = init_network()\n",
    "x = np.array([1.0, 0.5])\n",
    "y = forward(network, x)\n",
    "print(y)"
   ]
  },
  {
   "cell_type": "markdown",
   "metadata": {},
   "source": [
    "## 3.5 출력층 설계하기\n",
    "- 분류 : 데이터가 어느 클래스에 속하는지 결정하는 문제\n",
    "- 회귀 : 입력 데이터에서 (연속적인) 수치를 예측하는 문제\n",
    "\n",
    "### 3.5.1 항등 함수와 소프트맥스 함수 구현하기\n",
    "- 항등 함수(identity function): 입력을 그대로 출력\n",
    "- 소프트맥스 함수(softmax function): $y_k = \\frac{\\exp(a_k)}{\\sum_{i=1}^{n}\\exp(a_i)}$\n",
    "- 소프트맥스 함수는 출력층의 각 뉴런이 모든 입력 신호에서 영향을 받음\n",
    "- 지수화된 값의 합으로 나누어 확률로 변환"
   ]
  },
  {
   "cell_type": "code",
   "execution_count": 26,
   "metadata": {},
   "outputs": [
    {
     "name": "stdout",
     "output_type": "stream",
     "text": [
      "[0.01821127 0.24519181 0.73659691]\n"
     ]
    }
   ],
   "source": [
    "a = np.array([0.3, 2.9, 4.0])\n",
    "exp_a = np.exp(a)\n",
    "sum_exp_a = np.sum(exp_a)\n",
    "y = exp_a / sum_exp_a\n",
    "print(y)"
   ]
  },
  {
   "cell_type": "code",
   "execution_count": 27,
   "metadata": {},
   "outputs": [],
   "source": [
    "def softmax(a):\n",
    "    exp_a = np.exp(a)\n",
    "    sum_exp_a = np.sum(exp_a)\n",
    "    y = exp_a / sum_exp_a\n",
    "\n",
    "    return y"
   ]
  },
  {
   "cell_type": "markdown",
   "metadata": {},
   "source": [
    "### 3.5.2 소프트맥스 함수 구현 시 주의점\n",
    "- 지수 함수를 사용하므로 오버플로 문제 발생 가능\n",
    "- 임의의 정수를 양쪽에 곱해 로그화\n",
    "- 일반적으로 입력 신호 중 최댓값을 빼주어 계산\n"
   ]
  },
  {
   "cell_type": "code",
   "execution_count": 28,
   "metadata": {},
   "outputs": [
    {
     "name": "stdout",
     "output_type": "stream",
     "text": [
      "[-3.7 -1.1  0. ] [0.01821127 0.24519181 0.73659691]\n"
     ]
    }
   ],
   "source": [
    "a = np.array([0.3, 2.9, 4.0])\n",
    "np.exp(a) / np.sum(np.exp(a))\n",
    "c = np.max(a)\n",
    "print( a - c, np.exp(a - c) / np.sum(np.exp(a - c)))"
   ]
  },
  {
   "cell_type": "code",
   "execution_count": null,
   "metadata": {},
   "outputs": [],
   "source": [
    "#오버플로우 막는 소프트맥스\n",
    "def softmax(a):\n",
    "    c = np.max(a)\n",
    "    exp_a = np.exp(a - c)\n",
    "    sum_exp_a = np.sum(exp_a)\n",
    "    y = exp_a / sum_exp_a\n",
    "\n",
    "    return y"
   ]
  },
  {
   "cell_type": "markdown",
   "metadata": {},
   "source": [
    "### 3.5.3 소프트맥스 함수 특징\n",
    "- 출력은 0에서 1 사이의 실수\n",
    "- 출력의 총합은 1\n",
    "- 확률로 해석 가능\n",
    "- 출력층의 소프트맥스 함수는 생략 가능"
   ]
  },
  {
   "cell_type": "code",
   "execution_count": 29,
   "metadata": {},
   "outputs": [
    {
     "name": "stdout",
     "output_type": "stream",
     "text": [
      "[0.01821127 0.24519181 0.73659691] 1.0\n"
     ]
    }
   ],
   "source": [
    "a = np.array([0.3, 2.9, 4.0])\n",
    "y = softmax(a)\n",
    "print(y, np.sum(y))"
   ]
  },
  {
   "cell_type": "markdown",
   "metadata": {},
   "source": [
    "### 3.5.4 출력층의 뉴런 수 정하기\n",
    "- 분류에서는 분류하고 싶은 클래스 수로 설정\n",
    "\n",
    "## 3.6 손글씨 숫자 인식\n",
    "- 순전파(forward propagation): 입력층에서 출력층으로 향하는 전달 과정\n",
    "- MNIST 데이터셋: 손글씨 숫자 이미지 집합\n",
    "    - 28x28 크기의 회색조 이미지로, 각 픽셀은 0에서 255까지의 값을 취함\n",
    "- load_mnist : normalize, flatten, one_hot_label 3가지 옵션으로 데이터셋을 불러올 수 있음\n",
    "    - normalize: 입력 이미지의 픽셀 값을 0.0 ~ 1.0 사이의 값으로 정규화\n",
    "    - flatten: 입력 이미지를 1차원 배열로 만듦\n",
    "    - one_hot_label: 레이블을 원-핫 인코딩으로 저장"
   ]
  },
  {
   "cell_type": "code",
   "execution_count": 30,
   "metadata": {},
   "outputs": [
    {
     "name": "stdout",
     "output_type": "stream",
     "text": [
      "Converting train-images-idx3-ubyte.gz to NumPy Array ...\n",
      "Done\n",
      "Converting train-labels-idx1-ubyte.gz to NumPy Array ...\n",
      "Done\n",
      "Converting t10k-images-idx3-ubyte.gz to NumPy Array ...\n",
      "Done\n",
      "Converting t10k-labels-idx1-ubyte.gz to NumPy Array ...\n",
      "Done\n",
      "Creating pickle file ...\n",
      "Done!\n",
      "(60000, 784)\n",
      "(60000,)\n",
      "(10000, 784)\n",
      "(10000,)\n"
     ]
    }
   ],
   "source": [
    "import sys, os\n",
    "sys.path.append(os.pardir)\n",
    "from scratch.dataset.mnist import load_mnist\n",
    "from PIL import Image\n",
    "\n",
    "(x_train, t_train), (x_test, t_test) = load_mnist(flatten=True, normalize=False)\n",
    "\n",
    "print(x_train.shape)\n",
    "print(t_train.shape)\n",
    "print(x_test.shape)\n",
    "print(t_test.shape)\n"
   ]
  },
  {
   "cell_type": "code",
   "execution_count": 31,
   "metadata": {},
   "outputs": [
    {
     "name": "stdout",
     "output_type": "stream",
     "text": [
      "5\n",
      "(784,)\n",
      "(28, 28)\n"
     ]
    }
   ],
   "source": [
    "import sys, os\n",
    "sys.path.append(os.pardir)\n",
    "import numpy as np\n",
    "from scratch.dataset.mnist import load_mnist\n",
    "from PIL import Image\n",
    "\n",
    "def img_show(img):\n",
    "    pil_img = Image.fromarray(np.uint8(img))\n",
    "    pil_img.show()\n",
    "\n",
    "(x_train, t_train), (x_test, t_test) = load_mnist(flatten=True, normalize=False)\n",
    "\n",
    "img = x_train[0]\n",
    "label = t_train[0]\n",
    "print(label)\n",
    "\n",
    "print(img.shape)\n",
    "img = img.reshape(28, 28)\n",
    "print(img.shape)\n",
    "\n",
    "img_show(img)"
   ]
  },
  {
   "cell_type": "markdown",
   "metadata": {},
   "source": [
    "### 3.6.2 신경망의 추론 처리\n",
    "- 입력층 뉴런: 784개(28x28)\n",
    "- 출력층 뉴런: 10개(0~9)\n",
    "- 은닉층 뉴런: 50개, 100개 등 임의로 설정 가능"
   ]
  },
  {
   "cell_type": "code",
   "execution_count": 32,
   "metadata": {},
   "outputs": [],
   "source": [
    "import pickle\n",
    "def get_data():\n",
    "    (x_train, t_train), (x_test, t_test) = load_mnist(normalize=True, flatten=True, one_hot_label=False)\n",
    "    return x_test, t_test\n",
    "\n",
    "def init_network():\n",
    "    with open(\"scratch/ch03/sample_weight.pkl\", 'rb') as f:\n",
    "        network = pickle.load(f) # 실행 당시 객체 즉시 복원\n",
    "\n",
    "    return network\n",
    "\n",
    "def predict(network, x):\n",
    "    W1, W2, W3 = network['W1'], network['W2'], network['W3']\n",
    "    b1, b2, b3 = network['b1'], network['b2'], network['b3']\n",
    "\n",
    "    a1 = np.dot(x, W1) + b1\n",
    "    z1 = sigmoid(a1)\n",
    "    a2 = np.dot(z1, W2) + b2\n",
    "    z2 = sigmoid(a2)\n",
    "    a3 = np.dot(z2, W3) + b3\n",
    "    y = softmax(a3)\n",
    "\n",
    "    return y"
   ]
  },
  {
   "cell_type": "code",
   "execution_count": 33,
   "metadata": {},
   "outputs": [
    {
     "name": "stdout",
     "output_type": "stream",
     "text": [
      "Accuracy:0.9352\n"
     ]
    }
   ],
   "source": [
    "x, t = get_data()\n",
    "network = init_network()\n",
    "\n",
    "accuracy_cnt = 0\n",
    "for i in range(len(x)):\n",
    "    y = predict(network, x[i])\n",
    "    p = np.argmax(y)\n",
    "    if p == t[i]:\n",
    "        accuracy_cnt += 1\n",
    "\n",
    "print(\"Accuracy:\" + str(float(accuracy_cnt) / len(x)))"
   ]
  },
  {
   "cell_type": "markdown",
   "metadata": {},
   "source": [
    "### 3.6.3 배치 처리\n",
    "- 배치(batch) : 하나로 묶은 입력 데이터\\\n",
    "     - 이미지 1장당 처리 시간을 줄이기 위해 여러장을 묶어 처리\n",
    "     - 데이터 전송이 병목으로 작용하는 경우 배치 처리 함으로써 버스에 주는 부하 줄임(입출력 문맥교환 줄어듬)\n",
    "- 다차원 배열의 대응하는 차원의 원소수가 일치함을 확인\n",
    "- 후에 이미지 여러장을 한번에 묶어 넘김\n",
    "- 배치 크기가 너무 큰 경우 : 메모리 부족, 속도 저하, gpu병렬처리 가능, 오버헤드 줄어들음\n",
    "- 배치 크기가 너무 작은 경우 : 데이터 로딩으로 오버헤드 증가속도 저하, gpu의 계산 효율이 떨어짐(병렬처리 불가), gradient descent의 방향이 불안정해짐"
   ]
  },
  {
   "cell_type": "code",
   "execution_count": 34,
   "metadata": {},
   "outputs": [
    {
     "name": "stdout",
     "output_type": "stream",
     "text": [
      "(10000, 784) (784,) (784, 50) (50, 100) (100, 10)\n"
     ]
    }
   ],
   "source": [
    "\n",
    "x, _ = get_data()\n",
    "network = init_network()\n",
    "W1, W2, W3 = network['W1'], network['W2'], network['W3']\n",
    "\n",
    "print(x.shape, x[0].shape, W1.shape, W2.shape, W3.shape)"
   ]
  },
  {
   "cell_type": "code",
   "execution_count": 36,
   "metadata": {},
   "outputs": [
    {
     "name": "stdout",
     "output_type": "stream",
     "text": [
      "Accuracy:0.9352\n"
     ]
    }
   ],
   "source": [
    "x, t = get_data()\n",
    "network = init_network()\n",
    "batch_size = 100\n",
    "accuracy_cnt = 0\n",
    "\n",
    "for i in range(0, len(x), batch_size):\n",
    "    x_batch = x[i:i+batch_size]\n",
    "    y_batch = predict(network, x_batch)\n",
    "    p = np.argmax(y_batch, axis=1)\n",
    "    accuracy_cnt += np.sum(p == t[i:i+batch_size])\n",
    "\n",
    "print(\"Accuracy:\" + str(float(accuracy_cnt) / len(x)))"
   ]
  },
  {
   "cell_type": "code",
   "execution_count": 38,
   "metadata": {},
   "outputs": [
    {
     "name": "stdout",
     "output_type": "stream",
     "text": [
      "[0, 3, 6, 9] [0, 1, 2, 3, 4, 5, 6, 7, 8, 9]\n"
     ]
    }
   ],
   "source": [
    "print(list(range(0, 10, 3)),list(range(0, 10)))\n"
   ]
  },
  {
   "cell_type": "code",
   "execution_count": 39,
   "metadata": {},
   "outputs": [
    {
     "name": "stdout",
     "output_type": "stream",
     "text": [
      "[1 2 1 0]\n"
     ]
    }
   ],
   "source": [
    "x = np.array([[0.1, 0.8, 0.1], [0.3, 0.1, 0.6], [0.2, 0.5, 0.3], [0.8, 0.1, 0.1]])\n",
    "y = np.argmax(x, axis=1)\n",
    "print(y)"
   ]
  },
  {
   "cell_type": "code",
   "execution_count": 40,
   "metadata": {},
   "outputs": [
    {
     "name": "stdout",
     "output_type": "stream",
     "text": [
      "[ True  True False  True]\n"
     ]
    },
    {
     "data": {
      "text/plain": [
       "3"
      ]
     },
     "execution_count": 40,
     "metadata": {},
     "output_type": "execute_result"
    }
   ],
   "source": [
    "y = np.array([1, 2, 1, 0])\n",
    "t = np.array([1, 2, 0, 0])\n",
    "print(y == t)\n",
    "np.sum(y == t)"
   ]
  },
  {
   "cell_type": "markdown",
   "metadata": {},
   "source": [
    "## 3.7 정리\n",
    "- 신경망에서 활성화 함수로 시그모이드, ReLU와 같은 매끄러운 함수 사용\n",
    "- 넘파이의 다차원 배열로 신경망 효율적 구현\n",
    "- 기계학습 무제는 회귀와 분류로 나누어짐\n",
    "- 출력층의 활성와 함수는 회귀에서 주로 항등함수, 분류에서 소프트맥스 함수 사용\n",
    "- 분류에서 출력층의 뉴런 수는 분류하려는 클래스 수와 같게 설정\n",
    "- 배치는 입력 데이터를 묶은 것이며, 추론 처리를 위해 배치 단위로 진행하면 결과가 빨라짐"
   ]
  },
  {
   "cell_type": "markdown",
   "metadata": {},
   "source": [
    "# 4. 신경망 학습\n",
    "## 4.1 데이터에서 학습\n",
    "- 가중치 매개변수의 값을 데이터로 보고 자동으로 결정\n",
    "- 선형 분리 가능 문제는 유한번의 학습을 통해 풀 수 있으나(퍼셉트론 수렴 정리), 비선형 분리 문제는 자동으로 학습 할 수 없음\n",
    "\n",
    "### 4.1.1 데이터 주도 학습\n",
    "- 고차원에 대한 작업을 할 시 깊은 신경망을 사용해야하는데 weight가 늘어나고 조건수가 늘어나므로 데이터가 많아야 한다\n",
    "- 데이터에서 특징(feature)을 추출하고, 이 특징의 패턴을 기계학습 기술로 학습\n",
    "    - 특징은 입력 데이터에서 본질적인 데이터를 정확하게 추출할 수 있도록 설계된 변환기\n",
    "    - 이미지의 특징은 주로 SIFT, SURF, HOG 등의 특징 사용(컴퓨터비전)\n",
    "- 사람이 생각한 특징을 사용하는 방법도 있으나, 신경망은 이미지에 포함된 중요한 특징까지도 기계가 스스로 학습\n",
    "- 신경망이 아닌 기계학습은 이미지를 벡터로 변환할 때 사용하는 특징을 여전히 사람이 설계해야함\n",
    "- 딥러닝(신경망)을 종단간 기계학습(end-to-end machine learning)으로 데이터 입력에서 결과 출력까지 사람의 개입없이 얻음\n",
    "\n",
    "### 4.1.2 훈련 데이터와 시험 데이터\n",
    "- 기계학습 문제는 훈련 데이터와 시험 데이터로 나누어 학습과 실험을 수행\n",
    "- 훈련 데이터로 학습한 모델의 범용 능력을 시험 데이터로 평가\n",
    "- 범용 능력: 아직 보지 못한 데이터로도 올바르게 판단하는 능력\n",
    "- 오버피팅(overfitting): 한 데이터셋에만 지나치게 최적화된 상태\n",
    "    - 오버피팅을 줄이기 위해 모델단순화, 데이터 추가, 드롭아웃, regulazation 등의 방법 사용 \n",
    "\n",
    "## 4.2 손실함수\n",
    "- 신경망 학습에서 신경망 성능의 나쁨을 나탄는 지표, 현재 신경망이 훈련 데이터를 얼마나 잘 처리하지 못하느냐를 나타냄\n",
    "- 손실함수의 값이 작을수록 좋음\n",
    "\n",
    "### 4.2.1 평균제곱오차\n",
    "$$E = \\frac{1}{2}\\sum_{k}(y_k - t_k)^2$$\n",
    "- $y_k$: 신경망의 출력\n",
    "- $t_k$: 정답 레이블\n",
    "- $k$: 데이터 차원 수\n",
    "- 추정값이 가우시안 분포를 따른다고 가정할 때, 평균제곱오차 함수를 최소화하는 것은 최대우도추정과 같음"
   ]
  },
  {
   "cell_type": "code",
   "execution_count": 41,
   "metadata": {},
   "outputs": [],
   "source": [
    "y = [0.1, 0.05, 0.6, 0.0, 0.05, 0.1, 0.0, 0.1, 0.0, 0.0]\n",
    "t = [0, 0, 1, 0, 0, 0, 0, 0, 0, 0]"
   ]
  },
  {
   "cell_type": "code",
   "execution_count": 42,
   "metadata": {},
   "outputs": [],
   "source": [
    "def mean_squared_error(y, t):\n",
    "    return 0.5 * np.sum((y-t)**2)"
   ]
  },
  {
   "cell_type": "code",
   "execution_count": 44,
   "metadata": {},
   "outputs": [
    {
     "name": "stdout",
     "output_type": "stream",
     "text": [
      "0.09750000000000003\n",
      "0.5975\n"
     ]
    }
   ],
   "source": [
    "print(mean_squared_error(np.array(y), np.array(t)))\n",
    "y2 = [0.1, 0.05, 0.1, 0.0, 0.05, 0.1, 0.0, 0.6, 0.0, 0.0]\n",
    "print(mean_squared_error(np.array(y2), np.array(t)))"
   ]
  },
  {
   "cell_type": "markdown",
   "metadata": {},
   "source": [
    "### 4.2.2 교차 엔트로피 오차\n",
    "$$E = -\\sum_{k}t_k\\log y_k$$\n",
    "- $y_k$: 신경망이 k라고 예측한 확률 출력\n",
    "- $t_k$: 정답 레이블, 정답에 해당하는 인덱스의 원소만 1(원핫인코딩)\n",
    "- 정답일 때 추정의 자연로그 계산\n",
    "- 정답일 때 출력이 전체 값을 정함\n",
    "- 엔트로피: 정보량의 기댓값, 확률이 낮을수록 어떤 정보일지 확실하지 않음\n",
    "- 손실함수는 최소화하기 위해 -붙임\n",
    "- 확률을 계속 곱하면 0에 수렵하므로 곱하기를 더하기로 바꾸는 log함수사용\n",
    "- 이진분류일 경우는p,q에서 q==1이 되는 값 찾기\n",
    "- 베르누이 분포에서는 mse보다 ㅡ로스엔트로피를 씀 -> sfotmax와 결이 맞으므로"
   ]
  },
  {
   "cell_type": "code",
   "execution_count": 45,
   "metadata": {},
   "outputs": [
    {
     "name": "stdout",
     "output_type": "stream",
     "text": [
      "0.510825457099338\n",
      "2.302584092994546\n"
     ]
    }
   ],
   "source": [
    "def cross_entropy_error(y, t):\n",
    "    delta = 1e-7\n",
    "    return -np.sum(t * np.log(y + delta))\n",
    "\n",
    "print(cross_entropy_error(np.array(y), np.array(t)))\n",
    "print(cross_entropy_error(np.array(y2), np.array(t)))"
   ]
  },
  {
   "cell_type": "markdown",
   "metadata": {},
   "source": [
    "### 4.2.3 미니배치 학습\n",
    "- 훈련 데이터 모두에 대한 손실함수의 합을 구하는 것은 현실적이지 않음\n",
    "- 데이터 일부를 추려 전체의 근사치로 이용\n",
    "- 미니배치(mini-batch): 훈련 데이터 중 일부를 무작위로 가져와 학습"
   ]
  },
  {
   "cell_type": "code",
   "execution_count": 46,
   "metadata": {},
   "outputs": [
    {
     "name": "stdout",
     "output_type": "stream",
     "text": [
      "(60000, 784) (60000, 10)\n"
     ]
    }
   ],
   "source": [
    "import sys, os\n",
    "sys.path.append(os.pardir)\n",
    "import numpy as np\n",
    "from scratch.dataset.mnist import load_mnist\n",
    "\n",
    "(x_train, t_train), (x_test, t_test) = load_mnist(normalize=True, one_hot_label=True)\n",
    "\n",
    "print(x_train.shape, t_train.shape)"
   ]
  },
  {
   "cell_type": "code",
   "execution_count": 48,
   "metadata": {},
   "outputs": [
    {
     "data": {
      "text/plain": [
       "array([ 5669, 20293, 57867,  8008, 37275, 53587,  4410, 14693,   759,\n",
       "       10021])"
      ]
     },
     "execution_count": 48,
     "metadata": {},
     "output_type": "execute_result"
    }
   ],
   "source": [
    "# 무작위로 빼내기\n",
    "train_size = x_train.shape[0]\n",
    "batch_size = 10\n",
    "batch_mask = np.random.choice(train_size, batch_size)\n",
    "x_batch = x_train[batch_mask]\n",
    "t_batch = t_train[batch_mask]\n",
    "\n",
    "np.random.choice(60000, 10)"
   ]
  },
  {
   "cell_type": "markdown",
   "metadata": {},
   "source": [
    "### 4.2.4 배치용 교차 엔트로피 오차\n",
    "- 데이터가 하나인 경우와 미니배치인 경우 모두 처리할 수 있도록 구현\n",
    "- 정답 레이블이 원-핫 인코딩이 아닌 경우도 처리 가능"
   ]
  },
  {
   "cell_type": "code",
   "execution_count": 49,
   "metadata": {},
   "outputs": [],
   "source": [
    "def cross_entropy_error(y, t):\n",
    "    if y.ndim == 1:\n",
    "        t = t.reshape(1, t.size)\n",
    "        y = y.reshape(1, y.size)\n",
    "\n",
    "    batch_size = y.shape[0]\n",
    "    return -np.sum(t * np.log(y + 1e-7)) / batch_size\n",
    "    # return -np.sum(np.log(y[np.arange(batch_size), t] + 1e-7)) / batch_size  : 원핫인코딩\n"
   ]
  },
  {
   "cell_type": "markdown",
   "metadata": {},
   "source": [
    "### 4.2.5 손실함수 설정 이유\n",
    "- 정확도를 높게 하는 매개변수 값을 찾는 것이 목표\n",
    "- __정확도는 매개변수의 미분이 대부분의 장소에서 0이 되어 매개변수를 갱신할 수 없음__ \n",
    "    - 정확도는 개선된다 하더라도 연속적인 변화가 아니므로 미분 불가하거나 매개변수를 약간 조정하는 정도에서 정확도는 개선되지 않음\n",
    "- 손실함수는 미분값이 0이 되지 않아 학습 가능\n",
    "\n",
    "## 4.3 수치 미분\n",
    "- 미분: 한순간의 변화량\n",
    "$$\\frac{df(x)}{dx} = \\lim_{h \\to 0}\\frac{f(x+h) - f(x)}{h}$$\n",
    "\n",
    "### 4.3.1 미분\n",
    "- 수치 미분: 아주 작은 차분으로 미분을 구하는 것\n",
    "- 소수점 8자리 이하에서 반올림 오차 발생하므로 $h$를 작게 설정해야함\n",
    "-  x를 중심으로 전후의 차분을 계산하므로 중앙차분이라고함\n",
    "- 중앙차분은 진정한 접선(미분)과 값이 다름\n",
    "$$\\frac{df(x)}{dx} = \\lim_{h \\to 0}\\frac{f(x+h) - f(x-h)}{2h}$$\n"
   ]
  },
  {
   "cell_type": "code",
   "execution_count": 51,
   "metadata": {},
   "outputs": [],
   "source": [
    "# 미분\n",
    "def numerical_diff(f, x):\n",
    "    h = 1e-4\n",
    "    return (f(x+h) - f(x)) / (h)\n",
    "\n",
    "# 수치미분(중앙차분)\n",
    "def numerical_diff2(f,x):\n",
    "    h = 1e-4\n",
    "    return (f(x+h) - f(x-h)) / (2*h)"
   ]
  },
  {
   "cell_type": "markdown",
   "metadata": {},
   "source": [
    "### 4.3.2 수치 미분 예시\n",
    "- $y = 0.01x^2 + 0.1x$"
   ]
  },
  {
   "cell_type": "code",
   "execution_count": 52,
   "metadata": {},
   "outputs": [
    {
     "data": {
      "image/png": "[encoded data removed]",
      "text/plain": [
       "<Figure size 640x480 with 1 Axes>"
      ]
     },
     "metadata": {},
     "output_type": "display_data"
    }
   ],
   "source": [
    "def function_1(x):\n",
    "    return 0.01*x**2 + 0.1*x\n",
    "\n",
    "import numpy as np\n",
    "import matplotlib.pylab as plt\n",
    "\n",
    "x = np.arange(0.0, 20.0, 0.1)\n",
    "y = function_1(x)\n",
    "plt.xlabel(\"x\")\n",
    "plt.ylabel(\"f(x)\")\n",
    "plt.plot(x, y)\n",
    "plt.show()"
   ]
  },
  {
   "cell_type": "code",
   "execution_count": 54,
   "metadata": {},
   "outputs": [
    {
     "name": "stdout",
     "output_type": "stream",
     "text": [
      "0.20000099999917254 0.3000009999976072\n"
     ]
    },
    {
     "data": {
      "text/plain": [
       "(0.1999999999990898, 0.2999999999986347)"
      ]
     },
     "execution_count": 54,
     "metadata": {},
     "output_type": "execute_result"
    }
   ],
   "source": [
    "print(numerical_diff(function_1, 5), numerical_diff(function_1, 10))\n",
    "numerical_diff2(function_1, 5), numerical_diff2(function_1, 10)"
   ]
  },
  {
   "cell_type": "markdown",
   "metadata": {},
   "source": [
    "### 4.3.3 편미분\n",
    "- 변수가 여럿인 함수의 미분\n",
    "$$f(x_0, x_1) = x_0^2 + x_1^2$$\n",
    "- $x_0$에 대한 편미분 $$\\frac{\\partial f}{\\partial x_0} = 2x_0$$\n",
    "\n",
    "- $x_1$에 대한 편미분 \n",
    "$$\\frac{\\partial f}{\\partial x_1} = 2x_1$$"
   ]
  },
  {
   "cell_type": "code",
   "execution_count": 56,
   "metadata": {},
   "outputs": [
    {
     "name": "stdout",
     "output_type": "stream",
     "text": [
      "6.000099999994291\n",
      "8.00009999998963\n"
     ]
    }
   ],
   "source": [
    "def function_2(x):\n",
    "    return x[0]**2 + x[1]**2\n",
    "\n",
    "# x0 = 3, x1 = 4일 때 x0에 대한 편미분\n",
    "def function_tmp1(x0):\n",
    "    return x0*x0 + 4.0**2.0\n",
    "\n",
    "print(numerical_diff(function_tmp1, 3.0))\n",
    "\n",
    "# x0 = 3, x1 = 4일 때 x1에 대한 편미분\n",
    "def function_tmp2(x1):\n",
    "    return 3.0**2.0 + x1*x1\n",
    "\n",
    "print(numerical_diff(function_tmp2, 4.0))"
   ]
  },
  {
   "cell_type": "markdown",
   "metadata": {},
   "source": [
    "## 4.4 기울기\n",
    "- 모든 변수의 편미분을 벡터로 정리한 것\n",
    "- __기울기가 가리키는 쪽은 각 장소에서 함수의 출력 값을 가장 크게 줄이는 방향__ "
   ]
  },
  {
   "cell_type": "code",
   "execution_count": 57,
   "metadata": {},
   "outputs": [
    {
     "name": "stdout",
     "output_type": "stream",
     "text": [
      "[6. 8.]\n",
      "[0. 4.]\n",
      "[6. 0.]\n"
     ]
    }
   ],
   "source": [
    "def numerical_gradient(f, x):\n",
    "    h = 1e-4\n",
    "    grad = np.zeros_like(x)\n",
    "\n",
    "    for idx in range(x.size):\n",
    "        tmp_val = x[idx]\n",
    "        x[idx] = tmp_val + h\n",
    "        fxh1 = f(x)\n",
    "\n",
    "        x[idx] = tmp_val - h\n",
    "        fxh2 = f(x)\n",
    "\n",
    "        grad[idx] = (fxh1 - fxh2) / (2*h)\n",
    "        x[idx] = tmp_val\n",
    "\n",
    "    return grad\n",
    "\n",
    "print(numerical_gradient(function_2, np.array([3.0, 4.0])))\n",
    "print(numerical_gradient(function_2, np.array([0.0, 2.0])))\n",
    "print(numerical_gradient(function_2, np.array([3.0, 0.0])))"
   ]
  },
  {
   "cell_type": "markdown",
   "metadata": {},
   "source": [
    "### 4.4.1 경사법\n",
    "- 손실함수가 최솟값이 될때의 매개변수값\n",
    "- 기울기로 함수의 최솟값을 찾으려는 것\n",
    "- 기울기가 가르키는 방향아 최솟값인지 보장할 수 없음\n",
    "    - 그소값이나 안장점일 가능성이 있으므로 고원 같은 학습이 진행되지 않는 정체기에 빠질 수 있음\n",
    "- 학습률(learning rate): 매개변수 값을 갱신하는 양\n",
    "    - 너무 크면 발산, 너무 작으면 학습이 잘 되지 않음\n",
    "    - 적절한 학습률을 찾는 것이 중요\n",
    "\n",
    "- 학습률과 같은 매개변수는 __하이퍼파라미터__ 로 사람이 직접 설정해야함\n",
    "- 가중치와 편향은 기계가 자동으로 학습"
   ]
  },
  {
   "cell_type": "code",
   "execution_count": 58,
   "metadata": {},
   "outputs": [
    {
     "data": {
      "text/plain": [
       "array([-6.11110793e-10,  8.14814391e-10])"
      ]
     },
     "execution_count": 58,
     "metadata": {},
     "output_type": "execute_result"
    }
   ],
   "source": [
    "# 경사하강법 구현\n",
    "def gradient_descent(f, init_x, lr=0.01, step_num=100):\n",
    "    x = init_x\n",
    "\n",
    "    for i in range(step_num):\n",
    "        grad = numerical_gradient(f, x)\n",
    "        x -= lr * grad\n",
    "\n",
    "    return x\n",
    "\n",
    "# 문제 : f(x0, x1) = x0^2 + x1^2의 최솟값 구하기\n",
    "def function_2(x):\n",
    "    return x[0]**2 + x[1]**2\n",
    "\n",
    "init_x = np.array([-3.0, 4.0])\n",
    "gradient_descent(function_2, init_x=init_x, lr=0.1, step_num=100)"
   ]
  },
  {
   "cell_type": "code",
   "execution_count": 59,
   "metadata": {},
   "outputs": [
    {
     "name": "stdout",
     "output_type": "stream",
     "text": [
      "[-2.58983747e+13 -1.29524862e+12]\n",
      "[-2.99999994  3.99999992]\n"
     ]
    }
   ],
   "source": [
    "# 학습률이 너무 큰경우\n",
    "init_x = np.array([-3.0, 4.0])\n",
    "print(gradient_descent(function_2, init_x=init_x, lr=10.0, step_num=100))\n",
    "\n",
    "# 학습률이 너무 작은 경우\n",
    "init_x = np.array([-3.0, 4.0])\n",
    "print(gradient_descent(function_2, init_x=init_x, lr=1e-10, step_num=100))\n"
   ]
  },
  {
   "cell_type": "markdown",
   "metadata": {},
   "source": [
    "### 4.4.2 신경망 기울기\n",
    "- 가중치 매개변수에 대한 손실함수의 기울기\n",
    "- 각원소에 대한 편미분으로 구함\n",
    "- __$\\frac{\\partial L}{\\partial W}$은 $W$와 형상이 같음 -> $2x3$ 행렬__ \n",
    "\n",
    "$$W = \\begin{pmatrix} w_{11} & w_{21} & w_{31} \\\\ w_{12} & w_{22} & w_{32} \\end{pmatrix}$$\n",
    "$$\\frac{\\partial L}{\\partial W} = \\begin{pmatrix} \\frac{\\partial L}{\\partial w_{11}} & \\frac{\\partial L}{\\partial w_{21}} & \\frac{\\partial L}{\\partial w_{31}} \\\\ \\frac{\\partial L}{\\partial w_{12}} & \\frac{\\partial L}{\\partial w_{22}} & \\frac{\\partial L}{\\partial w_{32}} \\end{pmatrix}$$"
   ]
  },
  {
   "cell_type": "code",
   "execution_count": 63,
   "metadata": {},
   "outputs": [
    {
     "name": "stdout",
     "output_type": "stream",
     "text": [
      "[[-3.12681524e-01  1.18641083e+00 -7.23499232e-01]\n",
      " [ 1.65308563e+00 -7.08928369e-04 -2.51264374e-02]]\n",
      "[ 1.30016815  0.71120846 -0.45671333] 0\n",
      "2.3035479367546854\n"
     ]
    }
   ],
   "source": [
    "import sys, os\n",
    "sys.path.append(os.pardir)\n",
    "import numpy as np\n",
    "from scratch.common.functions import softmax, cross_entropy_error\n",
    "from scratch.common.gradient import numerical_gradient\n",
    "\n",
    "class simpleNet:\n",
    "    def __init__(self):\n",
    "        self.W = np.random.randn(2, 3)\n",
    "\n",
    "    def predict(self, x):\n",
    "        return np.dot(x, self.W)\n",
    "\n",
    "    def loss(self, x, t):\n",
    "        z = self.predict(x)\n",
    "        y = softmax(z)\n",
    "        loss = cross_entropy_error(y, t)\n",
    "\n",
    "        return loss\n",
    "\n",
    "net = simpleNet()\n",
    "print(net.W)d\n",
    "\n",
    "x = np.array([0.6, 0.9])\n",
    "p = net.predict(x)\n",
    "print(p, np.argmax(p))\n",
    "\n",
    "t = np.array([0, 0, 1])\n",
    "print(net.loss(x, t))"
   ]
  },
  {
   "cell_type": "code",
   "execution_count": 65,
   "metadata": {},
   "outputs": [
    {
     "name": "stdout",
     "output_type": "stream",
     "text": [
      "[[ 0.34732509  0.19273217 -0.54005726]\n",
      " [ 0.52098764  0.28909826 -0.81008589]]\n"
     ]
    }
   ],
   "source": [
    "def f(W):\n",
    "    return net.loss(x, t)\n",
    "\n",
    "dW = numerical_gradient(f, net.W)\n",
    "print(dW)\n",
    "\n",
    "# or\n",
    "f = lambda w: net.loss(x, t)\n",
    "dW = numerical_gradient(f, net.W)"
   ]
  },
  {
   "cell_type": "markdown",
   "metadata": {},
   "source": [
    "## 4.5 학습 알고리즘 구현하기\n",
    "- 학습 :신경망의 가중치와 편항을 훈련 데이터에 적응하도록 조정하는 과정\n",
    "- 추론 : 컴퓨터가 알아낸 wiehgt와 bias를 바탕으로 새로운 입력에 출력 계산\n",
    "- 1단계 : 미니배치\n",
    "    - 훈련 데이터 중 일부를 무작위로 가져옴, 미니 배치의 손실함수 값을 줄임\n",
    "- 2단계 : 기울기 산출\n",
    "    - 미니 배치의 손실 함수 값을 줄이기 위해 가중치 매개변수의 기울기 구함\n",
    "    - 기울기는 손실함수를 가장 작게하는 뱡향 제시\n",
    "- 3단계 : 매개변수 갱신\n",
    "    - 가중치 매개변수를 기울기 방향으로 아주 조금 갱신\n",
    "- 4단계 : 반복\n",
    "\n",
    "- 미니배치로 무작위 선정한 데이터로 매개변수를 경사하강법을 사용해 갱신하면 확률적 경사하강법\n",
    "- 층이 깊어질수록 기울기 손실 문제 발생\n",
    "    - 해결 : 가중치 초기값을 적절히 설정, 활성화 함수로 ReLU 사용, 배치 정규화 사용, skip connection 사용"
   ]
  },
  {
   "cell_type": "markdown",
   "metadata": {},
   "source": [
    "### 4.5.1 2층 신경망 클래스 구현하기\n",
    "#### 변수\n",
    "pramas\n",
    "\n",
    "    - 신경망의 매개변수를 보관하는 딕셔너리 인스턴스 변수\n",
    "\n",
    "    - params['W1']은 1번째 층의 가중치, params['b1']은 1번째 층의 편향\n",
    "\n",
    "    - params['W2']은 2번째 층의 가중치, params['b2']은 2번째 층의 편향\n",
    "\n",
    "grads\n",
    "\n",
    "    - 기울기 보관하는 딕셔너리 인스턴스 변수(numerical_gradient() 메서드의 반환값)\n",
    "\n",
    "    - grads['W1']은 1번째 층의 가중치의 기울기, grads['b1']은 1번째 층의 편향의 기울기\n",
    "\n",
    "    - grads['W2']은 2번째 층의 가중치의 기울기, grads['b2']은 2번째 층의 편향의 기울기\n",
    "\n",
    "#### 메서드\n",
    "_ _ init _ _ (self, input_size, hidden_size, output_size, weight_init_std = 0.01)\n",
    "\n",
    "    - 초기화 수행  \n",
    "    - input_size: 입력층 뉴런 수  \n",
    "    - hidden_size: 은닉층 뉴런 수  \n",
    "    - output_size: 출력층 뉴런 수  \n",
    "    - weight_init_std: 가중치 초기화 시 정규분포의 스케일  \n",
    "\n",
    "predict(self, x)  \n",
    "    - 예측(추론) 수행  \n",
    "    - x: 이미지 데이터\n",
    "\n",
    "loss(self, x, t)  \n",
    "    - 손실함수의 값을 구함  \n",
    "    - x: 이미지 데이터, t: 정답 레이블\n",
    "\n",
    "accuracy(self, x, t)  \n",
    "    - 정확도를 구함\n",
    "  \n",
    "numerical_gradient(self, x, t)  \n",
    "    - 가중치 매개변수의 기울기를 수치 미분 방식으로 구함\n",
    "\n",
    "gradient(self, x, t)  \n",
    "    - 가중치 매개변수의 기울기 성능개선(오차역전법 체인룰)\n",
    "\n",
    "\n"
   ]
  },
  {
   "cell_type": "code",
   "execution_count": 66,
   "metadata": {},
   "outputs": [],
   "source": [
    "import sys, os\n",
    "sys.path.append(os.pardir)\n",
    "from scratch.common.functions import *\n",
    "from scratch.common.gradient import numerical_gradient\n",
    "\n",
    "class TwoLayerNet:\n",
    "    def __init__(self, input_size, hidden_size, output_size, weight_init_std=0.01):\n",
    "        self.params = {}\n",
    "        self.params['W1'] = weight_init_std * np.random.randn(input_size, hidden_size)\n",
    "        self.params['b1'] = np.zeros(hidden_size)\n",
    "        self.params['W2'] = weight_init_std * np.random.randn(hidden_size, output_size)\n",
    "        self.params['b2'] = np.zeros(output_size)\n",
    "\n",
    "    def predict(self, x):\n",
    "        W1, W2 = self.params['W1'], self.params['W2']\n",
    "        b1, b2 = self.params['b1'], self.params['b2']\n",
    "\n",
    "        a1 = np.dot(x, W1) + b1\n",
    "        z1 = sigmoid(a1)\n",
    "        a2 = np.dot(z1, W2) + b2\n",
    "        y = softmax(a2)\n",
    "\n",
    "        return y\n",
    "    \n",
    "    def loss(self, x, t):\n",
    "        y = self.predict(x)\n",
    "\n",
    "        return cross_entropy_error(y, t)\n",
    "    \n",
    "    def accuracy(self, x, t):\n",
    "        y = self.predict(x)\n",
    "        y = np.argmax(y, axis=1)\n",
    "        t = np.argmax(t, axis=1)\n",
    "\n",
    "        accuracy = np.sum(y == t) / float(x.shape[0])\n",
    "        return accuracy\n",
    "    \n",
    "    def numerical_gradient(self, x, t):\n",
    "        loss_W = lambda W: self.loss(x, t)\n",
    "\n",
    "        grads = {}\n",
    "        grads['W1'] = numerical_gradient(loss_W, self.params['W1'])\n",
    "        grads['b1'] = numerical_gradient(loss_W, self.params['b1'])\n",
    "        grads['W2'] = numerical_gradient(loss_W, self.params['W2'])\n",
    "        grads['b2'] = numerical_gradient(loss_W, self.params['b2'])\n",
    "\n",
    "        return grads\n"
   ]
  },
  {
   "cell_type": "code",
   "execution_count": 67,
   "metadata": {},
   "outputs": [
    {
     "name": "stdout",
     "output_type": "stream",
     "text": [
      "(784, 100) (100,) (100, 10) (10,)\n"
     ]
    },
    {
     "ename": "KeyboardInterrupt",
     "evalue": "",
     "output_type": "error",
     "traceback": [
      "\u001b[1;31m---------------------------------------------------------------------------\u001b[0m",
      "\u001b[1;31mKeyboardInterrupt\u001b[0m                         Traceback (most recent call last)",
      "Input \u001b[1;32mIn [67]\u001b[0m, in \u001b[0;36m<cell line: 8>\u001b[1;34m()\u001b[0m\n\u001b[0;32m      5\u001b[0m y \u001b[38;5;241m=\u001b[39m net\u001b[38;5;241m.\u001b[39mpredict(x)\n\u001b[0;32m      6\u001b[0m t \u001b[38;5;241m=\u001b[39m np\u001b[38;5;241m.\u001b[39mrandom\u001b[38;5;241m.\u001b[39mrand(\u001b[38;5;241m100\u001b[39m, \u001b[38;5;241m10\u001b[39m)\n\u001b[1;32m----> 8\u001b[0m grads \u001b[38;5;241m=\u001b[39m \u001b[43mnet\u001b[49m\u001b[38;5;241;43m.\u001b[39;49m\u001b[43mnumerical_gradient\u001b[49m\u001b[43m(\u001b[49m\u001b[43mx\u001b[49m\u001b[43m,\u001b[49m\u001b[43m \u001b[49m\u001b[43mt\u001b[49m\u001b[43m)\u001b[49m\n\u001b[0;32m      9\u001b[0m \u001b[38;5;28mprint\u001b[39m(grads[\u001b[38;5;124m'\u001b[39m\u001b[38;5;124mW1\u001b[39m\u001b[38;5;124m'\u001b[39m]\u001b[38;5;241m.\u001b[39mshape, grads[\u001b[38;5;124m'\u001b[39m\u001b[38;5;124mb1\u001b[39m\u001b[38;5;124m'\u001b[39m]\u001b[38;5;241m.\u001b[39mshape, grads[\u001b[38;5;124m'\u001b[39m\u001b[38;5;124mW2\u001b[39m\u001b[38;5;124m'\u001b[39m]\u001b[38;5;241m.\u001b[39mshape, grads[\u001b[38;5;124m'\u001b[39m\u001b[38;5;124mb2\u001b[39m\u001b[38;5;124m'\u001b[39m]\u001b[38;5;241m.\u001b[39mshape)\n",
      "Input \u001b[1;32mIn [66]\u001b[0m, in \u001b[0;36mTwoLayerNet.numerical_gradient\u001b[1;34m(self, x, t)\u001b[0m\n\u001b[0;32m     39\u001b[0m loss_W \u001b[38;5;241m=\u001b[39m \u001b[38;5;28;01mlambda\u001b[39;00m W: \u001b[38;5;28mself\u001b[39m\u001b[38;5;241m.\u001b[39mloss(x, t)\n\u001b[0;32m     41\u001b[0m grads \u001b[38;5;241m=\u001b[39m {}\n\u001b[1;32m---> 42\u001b[0m grads[\u001b[38;5;124m'\u001b[39m\u001b[38;5;124mW1\u001b[39m\u001b[38;5;124m'\u001b[39m] \u001b[38;5;241m=\u001b[39m \u001b[43mnumerical_gradient\u001b[49m\u001b[43m(\u001b[49m\u001b[43mloss_W\u001b[49m\u001b[43m,\u001b[49m\u001b[43m \u001b[49m\u001b[38;5;28;43mself\u001b[39;49m\u001b[38;5;241;43m.\u001b[39;49m\u001b[43mparams\u001b[49m\u001b[43m[\u001b[49m\u001b[38;5;124;43m'\u001b[39;49m\u001b[38;5;124;43mW1\u001b[39;49m\u001b[38;5;124;43m'\u001b[39;49m\u001b[43m]\u001b[49m\u001b[43m)\u001b[49m\n\u001b[0;32m     43\u001b[0m grads[\u001b[38;5;124m'\u001b[39m\u001b[38;5;124mb1\u001b[39m\u001b[38;5;124m'\u001b[39m] \u001b[38;5;241m=\u001b[39m numerical_gradient(loss_W, \u001b[38;5;28mself\u001b[39m\u001b[38;5;241m.\u001b[39mparams[\u001b[38;5;124m'\u001b[39m\u001b[38;5;124mb1\u001b[39m\u001b[38;5;124m'\u001b[39m])\n\u001b[0;32m     44\u001b[0m grads[\u001b[38;5;124m'\u001b[39m\u001b[38;5;124mW2\u001b[39m\u001b[38;5;124m'\u001b[39m] \u001b[38;5;241m=\u001b[39m numerical_gradient(loss_W, \u001b[38;5;28mself\u001b[39m\u001b[38;5;241m.\u001b[39mparams[\u001b[38;5;124m'\u001b[39m\u001b[38;5;124mW2\u001b[39m\u001b[38;5;124m'\u001b[39m])\n",
      "File \u001b[1;32mc:\\Users\\dmswl\\DlPractice\\scratch\\common\\gradient.py:43\u001b[0m, in \u001b[0;36mnumerical_gradient\u001b[1;34m(f, x)\u001b[0m\n\u001b[0;32m     41\u001b[0m tmp_val \u001b[38;5;241m=\u001b[39m x[idx]\n\u001b[0;32m     42\u001b[0m x[idx] \u001b[38;5;241m=\u001b[39m \u001b[38;5;28mfloat\u001b[39m(tmp_val) \u001b[38;5;241m+\u001b[39m h\n\u001b[1;32m---> 43\u001b[0m fxh1 \u001b[38;5;241m=\u001b[39m \u001b[43mf\u001b[49m\u001b[43m(\u001b[49m\u001b[43mx\u001b[49m\u001b[43m)\u001b[49m \u001b[38;5;66;03m# f(x+h)\u001b[39;00m\n\u001b[0;32m     45\u001b[0m x[idx] \u001b[38;5;241m=\u001b[39m tmp_val \u001b[38;5;241m-\u001b[39m h \n\u001b[0;32m     46\u001b[0m fxh2 \u001b[38;5;241m=\u001b[39m f(x) \u001b[38;5;66;03m# f(x-h)\u001b[39;00m\n",
      "Input \u001b[1;32mIn [66]\u001b[0m, in \u001b[0;36mTwoLayerNet.numerical_gradient.<locals>.<lambda>\u001b[1;34m(W)\u001b[0m\n\u001b[0;32m     38\u001b[0m \u001b[38;5;28;01mdef\u001b[39;00m \u001b[38;5;21mnumerical_gradient\u001b[39m(\u001b[38;5;28mself\u001b[39m, x, t):\n\u001b[1;32m---> 39\u001b[0m     loss_W \u001b[38;5;241m=\u001b[39m \u001b[38;5;28;01mlambda\u001b[39;00m W: \u001b[38;5;28;43mself\u001b[39;49m\u001b[38;5;241;43m.\u001b[39;49m\u001b[43mloss\u001b[49m\u001b[43m(\u001b[49m\u001b[43mx\u001b[49m\u001b[43m,\u001b[49m\u001b[43m \u001b[49m\u001b[43mt\u001b[49m\u001b[43m)\u001b[49m\n\u001b[0;32m     41\u001b[0m     grads \u001b[38;5;241m=\u001b[39m {}\n\u001b[0;32m     42\u001b[0m     grads[\u001b[38;5;124m'\u001b[39m\u001b[38;5;124mW1\u001b[39m\u001b[38;5;124m'\u001b[39m] \u001b[38;5;241m=\u001b[39m numerical_gradient(loss_W, \u001b[38;5;28mself\u001b[39m\u001b[38;5;241m.\u001b[39mparams[\u001b[38;5;124m'\u001b[39m\u001b[38;5;124mW1\u001b[39m\u001b[38;5;124m'\u001b[39m])\n",
      "Input \u001b[1;32mIn [66]\u001b[0m, in \u001b[0;36mTwoLayerNet.loss\u001b[1;34m(self, x, t)\u001b[0m\n\u001b[0;32m     25\u001b[0m \u001b[38;5;28;01mdef\u001b[39;00m \u001b[38;5;21mloss\u001b[39m(\u001b[38;5;28mself\u001b[39m, x, t):\n\u001b[1;32m---> 26\u001b[0m     y \u001b[38;5;241m=\u001b[39m \u001b[38;5;28;43mself\u001b[39;49m\u001b[38;5;241;43m.\u001b[39;49m\u001b[43mpredict\u001b[49m\u001b[43m(\u001b[49m\u001b[43mx\u001b[49m\u001b[43m)\u001b[49m\n\u001b[0;32m     28\u001b[0m     \u001b[38;5;28;01mreturn\u001b[39;00m cross_entropy_error(y, t)\n",
      "Input \u001b[1;32mIn [66]\u001b[0m, in \u001b[0;36mTwoLayerNet.predict\u001b[1;34m(self, x)\u001b[0m\n\u001b[0;32m     15\u001b[0m W1, W2 \u001b[38;5;241m=\u001b[39m \u001b[38;5;28mself\u001b[39m\u001b[38;5;241m.\u001b[39mparams[\u001b[38;5;124m'\u001b[39m\u001b[38;5;124mW1\u001b[39m\u001b[38;5;124m'\u001b[39m], \u001b[38;5;28mself\u001b[39m\u001b[38;5;241m.\u001b[39mparams[\u001b[38;5;124m'\u001b[39m\u001b[38;5;124mW2\u001b[39m\u001b[38;5;124m'\u001b[39m]\n\u001b[0;32m     16\u001b[0m b1, b2 \u001b[38;5;241m=\u001b[39m \u001b[38;5;28mself\u001b[39m\u001b[38;5;241m.\u001b[39mparams[\u001b[38;5;124m'\u001b[39m\u001b[38;5;124mb1\u001b[39m\u001b[38;5;124m'\u001b[39m], \u001b[38;5;28mself\u001b[39m\u001b[38;5;241m.\u001b[39mparams[\u001b[38;5;124m'\u001b[39m\u001b[38;5;124mb2\u001b[39m\u001b[38;5;124m'\u001b[39m]\n\u001b[1;32m---> 18\u001b[0m a1 \u001b[38;5;241m=\u001b[39m \u001b[43mnp\u001b[49m\u001b[38;5;241;43m.\u001b[39;49m\u001b[43mdot\u001b[49m\u001b[43m(\u001b[49m\u001b[43mx\u001b[49m\u001b[43m,\u001b[49m\u001b[43m \u001b[49m\u001b[43mW1\u001b[49m\u001b[43m)\u001b[49m \u001b[38;5;241m+\u001b[39m b1\n\u001b[0;32m     19\u001b[0m z1 \u001b[38;5;241m=\u001b[39m sigmoid(a1)\n\u001b[0;32m     20\u001b[0m a2 \u001b[38;5;241m=\u001b[39m np\u001b[38;5;241m.\u001b[39mdot(z1, W2) \u001b[38;5;241m+\u001b[39m b2\n",
      "File \u001b[1;32m<__array_function__ internals>:180\u001b[0m, in \u001b[0;36mdot\u001b[1;34m(*args, **kwargs)\u001b[0m\n",
      "\u001b[1;31mKeyboardInterrupt\u001b[0m: "
     ]
    }
   ],
   "source": [
    "net = TwoLayerNet(input_size=784, hidden_size=100, output_size=10)\n",
    "print(net.params['W1'].shape, net.params['b1'].shape, net.params['W2'].shape, net.params['b2'].shape)\n",
    "\n",
    "x = np.random.rand(100, 784)\n",
    "y = net.predict(x)\n",
    "t = np.random.rand(100, 10)\n",
    "\n",
    "grads = net.numerical_gradient(x, t)\n",
    "print(grads['W1'].shape, grads['b1'].shape, grads['W2'].shape, grads['b2'].shape)\n",
    "# 수치미분으로 매개변수 기울기 계산시 오래걸림"
   ]
  },
  {
   "cell_type": "markdown",
   "metadata": {},
   "source": [
    "## 4.5.2 미니배치 학습 구현\n",
    "- 훈련 데이터 중 일부를 무작위로 가져와 학습"
   ]
  },
  {
   "cell_type": "code",
   "execution_count": null,
   "metadata": {},
   "outputs": [],
   "source": [
    "import numpy as np\n",
    "from scratch.dataset.mnist import load_mnist\n",
    "from two_layer_net import TwoLayerNet\n",
    "\n",
    "(x_train, t_train), (x_test, t_test) = load_mnist(normalize=True, one_hot_label=True)\n",
    "\n",
    "train_loss_list = []\n",
    "\n",
    "# 하이퍼 파라미터 설정\n",
    "iters_num = 10000\n",
    "train_size = x_train.shape[0]\n",
    "batch_size = 100\n",
    "learning_rate = 0.1\n",
    "\n",
    "network = TwoLayerNet(input_size=784, hidden_size=50, output_size=10)\n",
    "\n",
    "for i in range(iters_num):\n",
    "    batch_mask = np.random.choice(train_size, batch_size)\n",
    "    x_batch = x_train[batch_mask]\n",
    "    t_batch = t_train[batch_mask]\n",
    "\n",
    "    grad = network.numerical_gradient(x_batch, t_batch)\n",
    "\n",
    "    for key in ('W1', 'b1', 'W2', 'b2'):\n",
    "        network.params[key] -= learning_rate * grad[key]\n",
    "\n",
    "    loss = network.loss(x_batch, t_batch)\n",
    "    train_loss_list.append(loss)"
   ]
  },
  {
   "cell_type": "markdown",
   "metadata": {},
   "source": [
    "### 4.5.3 시험 데이터로 평가\n",
    "- 훈련 데이터에만 지나치게 최적화되어 범용성을 잃는 __오버피팅__ 문제\n",
    "- 오버피팅을 방지하기 위해 시험 데이터로 정확도 평가\n",
    "- Epoch : 학습에서 훈련 데이터를 모두 소진했을 때의 횟수\n"
   ]
  },
  {
   "cell_type": "code",
   "execution_count": null,
   "metadata": {},
   "outputs": [],
   "source": [
    "import numpy as np\n",
    "from scratch.dataset.mnist import load_mnist\n",
    "from two_layer_net import TwoLayerNet\n",
    "\n",
    "(x_train, t_train), (x_test, t_test) = load_mnist(normalize=True, one_hot_label=True)\n",
    "\n",
    "network = TwoLayerNet(input_size=784, hidden_size=50, output_size=10)\n",
    "\n",
    "iters_num = 10000\n",
    "train_size = x_train.shape[0]\n",
    "batch_size = 100\n",
    "learning_rate = 0.1\n",
    "\n",
    "train_loss_list = []\n",
    "train_acc_list = []\n",
    "test_acc_list = []\n",
    "\n",
    "iter_per_epoch = max(train_size / batch_size, 1)\n",
    "\n",
    "for i in range(iters_num):\n",
    "    batch_mask = np.random.choice(train_size, batch_size)\n",
    "    x_batch = x_train[batch_mask]\n",
    "    t_batch = t_train[batch_mask]\n",
    "\n",
    "    grad = network.numerical_gradient(x_batch, t_batch)\n",
    "\n",
    "    for key in ('W1', 'b1', 'W2', 'b2'):\n",
    "        network.params[key] -= learning_rate * grad[key]\n",
    "\n",
    "    loss = network.loss(x_batch, t_batch)\n",
    "    train_loss_list.append(loss)\n",
    "\n",
    "    if i % iter_per_epoch == 0:\n",
    "        train_acc = network.accuracy(x_train, t_train)\n",
    "        test_acc = network.accuracy(x_test, t_test)\n",
    "        train_acc_list.append(train_acc)\n",
    "        test_acc_list.append(test_acc)\n",
    "        print(train_acc, test_acc)"
   ]
  },
  {
   "cell_type": "markdown",
   "metadata": {},
   "source": [
    "## 4.6 정리\n",
    "- 기계학습에서 사용하는 데이터셋은 훈련, 시험으로 나눔\n",
    "- 훈련 데이터로 학습한 모델의 범용 능력을 시험으로 평가\n",
    "- 손실함수로 지표하여 손실 함수의 값이 작아지는 방향으로 가중치 매개변수 갱신\n",
    "- 가중치 매개변수를 갱신할 시 가중치 매개변수의 기울기 이용하고 기울어진 방향으로 가중치의 값을 갱신하는 작업 반복\n",
    "- 아주 작은 값을 주었을 때의 차분으로 미분을 구하는 수치미분을 이용해 가중치 매개변수의 기울기 구함\n",
    "- 수치미분은 계산이 오래걸리지만 구현이 간단함"
   ]
  },
  {
   "cell_type": "markdown",
   "metadata": {},
   "source": [
    "# 5. 오차역전파법\n",
    "- 가중치 매개변수의 기울기를 효율적으로 계산하는 방법\n",
    "\n",
    "## 5.1 계산 그래프\n",
    "- 계산 과정을 그래프로 나타낸 것\n",
    "- 그래프 자료구조, 복수의 노드와 엣지로 표현\n",
    "\n",
    "### 5.1.1 계산 그래프로 풀다\n",
    "- 문제1 : 1개에 100원인 사과를 2개 샀다. 소비세가 10%일 때 지불 금액은?\n",
    "    - 100원 * 2개 = 200원 -> 10% 소비세 20원 -> 220원\n",
    "- 문제2 : 1개에 100원인 사과를 2개, 1개에 150원인 귤을 3개 샀다. 소비세가 10%일 때 지불 금액은?\n",
    "    - 100원 * 2개 + 150원 * 3개 = 650원 -> 10% 소비세 65원 -> 715원\n",
    "1. 계산 그래프 구성\n",
    "2. 그래프에서 계산을 왼쪽에서 오른쪽으로 진행\n",
    "\n",
    "### 5.1.2 국소적 계산\n",
    "- 계산 그래프의 특징은 각 노드의 계산이 국소적(관계된 작은범위) 계산이고, 노드끼리의 계산이 전파됨으로써 최종 결과를 얻음\n",
    "\n",
    "### 5.1.3 왜 계산 그래프로 푸는가\n",
    "- 국소적 계산으로 문제를 단순화할 수 있음\n",
    "- 중간 계산 결과를 모두 보관할 수 있음\n",
    "- 역전파를 통해 효율적으로 미분을 계산할 수 있음\n",
    "\n",
    "## 5.2 연쇄법칙\n",
    "- 합성 함수의 미분은 합성 함수를 구성하는 각 함수의 미분의 곱으로 나타낼 수 있음\n",
    "\n",
    "### 5.2.1 계산 그래프의 역전파\n",
    "- 역전파: 순전파와는 반대 방향으로 국소적 미분을 전달하는 것\n",
    "\n",
    "### 5.2.2 연쇄법칙\n",
    "- 합성 함수 : 여러 함수로 구성된 함수\n",
    "- 합성 함수의 미분은 합성 함수를 구성하는 각 함수의 미분의 곱으로 나타낼 수 있음\n",
    "$$z = t^2$$\n",
    "$$t = x + y$$\n",
    "$$\\frac{dz}{dx} = \\frac{dz}{dy}\\frac{dy}{dx}$$\n",
    "$$\\frac{dz}{dt} = 2t$$\n",
    "$$\\frac{dt}{dx} = 1$$\n",
    "$$\\frac{dz}{dx} = \\frac{dz}{dt}\\frac{dt}{dx} = 2t * 1 = 2t = 2(x + y)$$\n",
    "\n",
    "\n",
    "### 5.2.3 연쇄법칙과 계산 그래프\n",
    "- 계산 그래프의 역전파는 연쇄법칙에 따라 국소적 미분을 곱하여 전달\n",
    "- __역전파가 하는 일은 연쇄법칙의 원리와 같음__ \n",
    "$$\\frac{\\partial z}{\\partial x} = 2(x+y)$$\n",
    "\n",
    "\n",
    "## 5.3 역전파\n",
    "### 5.3.1 덧셈 노드의 역전파\n",
    "- $z = x + y$ 에서 $\\frac{\\partial z}{\\partial x} = 1, \\frac{\\partial z}{\\partial y} = 1$\n",
    "- 상류에서 전해진 미분이 하류로 흘려짐\n",
    "- 덧셈 노드의 역전파는 1을 곱하기만 할 뿐 입력된 값을 그대로 다음 노드로 전달\n",
    "\n",
    "\n",
    "### 5.3.2 곱셈 노드의 역전파\n",
    "- $z = xy$ 에서 $\\frac{\\partial z}{\\partial x} = y, \\frac{\\partial z}{\\partial y} = x$\n",
    "- 상류의 값에 __순전파 때 입력 신호들을 서로 바꾼 값을 곱해 하류로 보냄__\n",
    "- 곱셈 역전파는 순방향 입력 신호의 값이 필요하므로 순전파의 입력 신호 변수에 저장함\n",
    "\n",
    "### 5.3.3 사과 쇼핑의 예\n",
    "- 사과 가격, 사과 개수, 소비세라는 세 변수가 최종 금액에 어떻게 영향을 주느냐 해결\n",
    "- 사과 개수에 대한 지불 금액 미분, 소비세에 대한 금액 미분, 사과 가격에 대한 지불 금액의 비분 계산\n",
    "\n",
    "## 5.4 단순한 계층 구현하기\n",
    "### 5.4.1 곱셈 계층\n",
    "- forward() 순전파와 backward() 역전파 처리\n"
   ]
  },
  {
   "cell_type": "code",
   "execution_count": 68,
   "metadata": {},
   "outputs": [
    {
     "name": "stdout",
     "output_type": "stream",
     "text": [
      "220.00000000000003\n"
     ]
    }
   ],
   "source": [
    "class MulLayer:\n",
    "    def __init__(self): # 변수 초기화\n",
    "        self.x = None\n",
    "        self.y = None\n",
    "\n",
    "    def forward(self, x, y): # 순전파, x, y를 받아 곱셈 수행\n",
    "        self.x = x\n",
    "        self.y = y\n",
    "        out = x * y\n",
    "\n",
    "        return out\n",
    "\n",
    "    def backward(self, dout): # 역전파, 상류에서 넘어온 미분을 받아 x, y에 대한 미분 계산\n",
    "        dx = dout * self.y\n",
    "        dy = dout * self.x\n",
    "\n",
    "        return dx, dy\n",
    "    \n",
    "apple = 100\n",
    "apple_num = 2\n",
    "tax = 1.1\n",
    "\n",
    "mul_apple_layer = MulLayer()\n",
    "mul_tax_layer = MulLayer()\n",
    "\n",
    "# 순전파\n",
    "apple_price = mul_apple_layer.forward(apple, apple_num)\n",
    "price = mul_tax_layer.forward(apple_price, tax)\n",
    "print(price)\n",
    "\n",
    "# 역전파\n",
    "dprice = 1\n",
    "dapple_price, dtax = mul_tax_layer.backward(dprice)\n",
    "dapple, dapple_num = mul_apple_layer.backward(dapple_price)\n",
    "\n",
    "print(dapple, dapple_num, dtax)\n"
   ]
  },
  {
   "cell_type": "markdown",
   "metadata": {},
   "source": [
    "### 5.4.2 덧셈 계층"
   ]
  },
  {
   "cell_type": "code",
   "execution_count": 69,
   "metadata": {},
   "outputs": [
    {
     "name": "stdout",
     "output_type": "stream",
     "text": [
      "715.0000000000001\n",
      "715.0000000000001\n",
      "110.00000000000001 2.2 3.3000000000000003 165.0 650\n"
     ]
    }
   ],
   "source": [
    "class AddLayer:\n",
    "    def __init__(self): # 초기화가 필요없음\n",
    "        pass\n",
    "\n",
    "    def forward(self, x, y):\n",
    "        out = x + y\n",
    "        return out\n",
    "\n",
    "    def backward(self, dout): # 상류에서 내려온 미분을 그대로 하류에 흘림\n",
    "        dx = dout * 1\n",
    "        dy = dout * 1\n",
    "        return dx, dy\n",
    "    \n",
    "apple = 100\n",
    "apple_num = 2\n",
    "orange = 150\n",
    "orange_num = 3\n",
    "tax = 1.1\n",
    "\n",
    "mul_apple_layer = MulLayer()\n",
    "mul_orange_layer = MulLayer()\n",
    "add_apple_orange_layer = AddLayer()\n",
    "mul_tax_layer = MulLayer()\n",
    "\n",
    "# 순전파\n",
    "apple_price = mul_apple_layer.forward(apple, apple_num)\n",
    "orange_price = mul_orange_layer.forward(orange, orange_num)\n",
    "all_price = add_apple_orange_layer.forward(apple_price, orange_price)\n",
    "price = mul_tax_layer.forward(all_price, tax)\n",
    "print(price)\n",
    "\n",
    "# 역전파\n",
    "dprice = 1\n",
    "dall_price, dtax = mul_tax_layer.backward(dprice)\n",
    "dapple_price, dorange_price = add_apple_orange_layer.backward(dall_price)\n",
    "dorange, dorange_num = mul_orange_layer.backward(dorange_price)\n",
    "dapple, dapple_num = mul_apple_layer.backward(dapple_price)\n",
    "\n",
    "print(price)\n",
    "print(dapple_num, dapple, dorange, dorange_num, dtax)"
   ]
  },
  {
   "cell_type": "markdown",
   "metadata": {},
   "source": [
    "### 5.5.1 ReLU 계층\n",
    "- ReLU 수식\n",
    "    $y = x (x > 0), y = 0 (x \\leq 0)$\n",
    "- x에 대한 y의 미분 식\n",
    "    $y = \\frac{\\partial L}{\\partial y} (x > 0), y = 0 (x \\leq 0)$\n",
    "- 순전파에서 입력인 x가 0보다 크면 상류의 값을 그대로 하류에 보내고, 0보다 작을경우 하류로 신호를 보내지 않음(0을보냄)\n",
    "-> ReLU는 전기회로의 스위치와 같음"
   ]
  },
  {
   "cell_type": "code",
   "execution_count": 70,
   "metadata": {},
   "outputs": [
    {
     "name": "stdout",
     "output_type": "stream",
     "text": [
      "[[ 1.  -0.5]\n",
      " [-2.   3. ]]\n",
      "[[False  True]\n",
      " [ True False]]\n"
     ]
    }
   ],
   "source": [
    "class ReLU:\n",
    "    def __init__(self):\n",
    "        self.mask = None\n",
    "\n",
    "    def forward(self, x):\n",
    "        self.mask = (x <= 0)\n",
    "        out = x.copy()\n",
    "        out[self.mask] = 0\n",
    "\n",
    "        return out\n",
    "\n",
    "    def backward(self, dout):\n",
    "        dout[self.mask] = 0\n",
    "        dx = dout\n",
    "\n",
    "        return dx\n",
    "    \n",
    "import numpy as np\n",
    "x = np.array([[1.0, -0.5], [-2.0, 3.0]])\n",
    "print(x)\n",
    "mask = (x <= 0)\n",
    "print(mask)"
   ]
  },
  {
   "cell_type": "markdown",
   "metadata": {},
   "source": [
    "### 5.5.2 sigmoid 계층\n",
    "- sigmoid 수식\n",
    "    $y = \\frac{1}{1 + \\exp(-x)}$\n",
    "\n",
    "- sigmoid 미분\n",
    "1. / 노드로 $y = \\frac{1}{x}$ 미분\n",
    "    \n",
    "    $\\frac{\\partial y}{\\partial x} = \\frac{1}{x^2} = -y^2$\n",
    "    \n",
    "    -> $-\\frac{\\partial L}{\\partial y}y^2$\n",
    "2. +노드로 상류의 값을 여과없이 보냄\n",
    "    \n",
    "    -> $-\\frac{\\partial L}{\\partial y}y^2$\n",
    "3. exp노드로 $y = exp(x)$ 연산 수행\n",
    "    \n",
    "    $\\frac{\\partial y}{\\partial x} = exp(x)$\n",
    "    \n",
    "    -> $-\\frac{\\partial L}{\\partial y}y^2exp(-x)$\n",
    "4. x 노드로 순전파 때 값을 서로 바꿔 곱합(여기서는 -1)\n",
    "    \n",
    "    -> $\\frac{\\partial L}{\\partial y}y^2exp(-x)$\n",
    "    \n",
    "따라서, $\\frac{\\partial L}{\\partial y}y^2exp(-x) = \\frac{\\partial L}{\\partial y}y(1-y)$"
   ]
  },
  {
   "cell_type": "code",
   "execution_count": 71,
   "metadata": {},
   "outputs": [],
   "source": [
    "class sigmoid:\n",
    "    def __init__(self):\n",
    "        self.out = None\n",
    "\n",
    "    def forward(self, x):\n",
    "        out = 1 / (1 + np.exp(-x))\n",
    "        self.out = out\n",
    "\n",
    "        return out\n",
    "\n",
    "    def backward(self, dout):\n",
    "        dx = dout * (1.0 - self.out) * self.out\n",
    "\n",
    "        return dx"
   ]
  },
  {
   "cell_type": "markdown",
   "metadata": {},
   "source": [
    "## 5.6 Affine/Softmax 계층 구현하기\n",
    "### 5.6.1 Affine 계층\n",
    "- 신경망의 순전파 때 수행하는 행렬의 내적을 기하학에서는 어파인 변환(affine transformation)이라고 함"
   ]
  },
  {
   "cell_type": "code",
   "execution_count": 72,
   "metadata": {},
   "outputs": [
    {
     "name": "stdout",
     "output_type": "stream",
     "text": [
      "(2,) (2, 3) (3,)\n"
     ]
    }
   ],
   "source": [
    "X = np.random.rand(2)\n",
    "W = np.random.rand(2, 3)\n",
    "B = np.random.rand(3)\n",
    "\n",
    "print(X.shape, W.shape, B.shape)\n",
    "Y = np.dot(X, W) + B "
   ]
  },
  {
   "cell_type": "markdown",
   "metadata": {},
   "source": [
    "- Y를 활성화 함수로 변환해 다음 층으로 전파하는 것이 신경망 순전파의 흐름\n",
    "- 행렬을 사용한 역전파는 행렬의 원소마다 전개해보면 스칼라값을 사용한 위의 방식과 같은 순서로 생각하면됨\n",
    "$$\\frac{\\partial L}{\\partial X} = \\frac{\\partial L}{\\partial Y}W^T$$\n",
    "$$\\frac{\\partial L}{\\partial W} = X^T\\frac{\\partial L}{\\partial Y}$$\n",
    "- $W^T$는 행렬의 전치를 의미\n",
    "\n",
    "- X와 $\\frac{\\partial L}{\\partial X}$의 형상은 같음\n",
    "- W와 $\\frac{\\partial L}{\\partial W}$의 형상은 같음\n",
    "$$X = \\begin{pmatrix} x_1 & x_2 \\\\ x_3 & x_4 \\end{pmatrix}$$\n",
    "$$\\frac{\\partial L}{\\partial X} = \\begin{pmatrix} \\frac{\\partial L}{\\partial x_1} & \\frac{\\partial L}{\\partial x_2} \\\\ \\frac{\\partial L}{\\partial x_3} & \\frac{\\partial L}{\\partial x_4} \\end{pmatrix}$$"
   ]
  },
  {
   "cell_type": "markdown",
   "metadata": {},
   "source": [
    "### 5.6.2 배치용 Affine 계층\n",
    "- 입력인 x의 형상이 (N,2)가 되고, 2차원에 맞게 행렬계산 하면 됨\n",
    "- 편향 덧샘은 X * W 에 대한 편향이 각 데이터에 더해짐\n"
   ]
  },
  {
   "cell_type": "code",
   "execution_count": 74,
   "metadata": {},
   "outputs": [
    {
     "name": "stdout",
     "output_type": "stream",
     "text": [
      "[[ 1  2  3]\n",
      " [11 12 13]]\n",
      "[[1 2 3]\n",
      " [4 5 6]]\n",
      "[5 7 9]\n"
     ]
    }
   ],
   "source": [
    "X_dot_W = np.array([[0, 0, 0], [10, 10, 10]])\n",
    "B = np.array([1, 2, 3])\n",
    "print(X_dot_W + B)\n",
    "\n",
    "dY = np.array([[1, 2, 3], [4, 5, 6]])\n",
    "print(dY)\n",
    "dB = np.sum(dY, axis=0)\n",
    "print(dB)"
   ]
  },
  {
   "cell_type": "code",
   "execution_count": 75,
   "metadata": {},
   "outputs": [],
   "source": [
    "class Affine:\n",
    "    def __init__(self, W, b):\n",
    "        self.W = W\n",
    "        self.b = b\n",
    "        self.x = None\n",
    "        self.dW = None\n",
    "        self.db = None\n",
    "\n",
    "    def forward(self, x):\n",
    "        self.x = x\n",
    "        out = np.dot(x, self.W) + self.b\n",
    "\n",
    "        return out\n",
    "\n",
    "    def backward(self, dout):\n",
    "        dx = np.dot(dout, self.W.T)\n",
    "        self.dW = np.dot(self.x.T, dout)\n",
    "        self.db = np.sum(dout, axis=0)\n",
    "\n",
    "        return dx"
   ]
  },
  {
   "cell_type": "markdown",
   "metadata": {},
   "source": [
    "\n",
    "### 5.6.3 Softmax-with-Loss 계층\n",
    "- 입력값을 정규화하여 출력\n",
    "- 소프트맥스 계층에 손실함수 교차 엔트로피 오차 포함하여 softmax-with-loss 계층으로 구현\n",
    "- 소프트맥스 계층의 역전파는 $(y_1 - t_1, y_2 - t_2, y_3 - t_3)$로 정답 레이블과의 차이를 구함"
   ]
  },
  {
   "cell_type": "code",
   "execution_count": 76,
   "metadata": {},
   "outputs": [],
   "source": [
    "class SoftmaxWithLoss:\n",
    "    def __init__(self):\n",
    "        self.loss = None\n",
    "        self.y = None\n",
    "        self.t = None\n",
    "\n",
    "    def forward(self, x, t):\n",
    "        self.t = t\n",
    "        self.y = softmax(x)\n",
    "        self.loss = cross_entropy_error(self.y, self.t)\n",
    "\n",
    "        return self.loss\n",
    "\n",
    "    def backward(self, dout=1):\n",
    "        batch_size = self.t.shape[0]\n",
    "        dx = (self.y - self.t) / batch_size\n",
    "\n",
    "        return dx\n"
   ]
  },
  {
   "cell_type": "markdown",
   "metadata": {},
   "source": [
    "## 5.7 오차역전파법 구현하기\n",
    "### 5.7.1 신경망 학습의 전체 그림\n",
    "- 전체\n",
    "    1. 미니배치\n",
    "    2. 기울기 계산 : 오차역전파법으로 기울기 계산\n",
    "    3. 매개변수 갱신\n",
    "    4. 1~3 반복\n",
    "\n",
    "### 5.7.2 오차역전파법으로 구한 기울기 검증하기\n",
    "- 이전 신경망에서 쌓이는 은닉층들을 Affine계층을 사용하고, softmaxwithloss 계층을 마지막 계층으로 사용\n",
    "- 가중치 매개변수의 기울기를 오차역전법으로 구함"
   ]
  },
  {
   "cell_type": "code",
   "execution_count": null,
   "metadata": {},
   "outputs": [],
   "source": [
    "import sys, os\n",
    "sys.path.append(os.pardir)\n",
    "import numpy as np\n",
    "from scratch.common.layers import *\n",
    "from scratch.common.gradient import numerical_gradient\n",
    "from collections import OrderedDict\n",
    "\n",
    "class TwoLayerNet:\n",
    "    def __init__(self, input_size, hidden_size, output_size, weight_init_std=0.01):\n",
    "        self.params = {}\n",
    "        self.params['W1'] = weight_init_std * np.random.randn(input_size, hidden_size)\n",
    "        self.params['b1'] = np.zeros(hidden_size)\n",
    "        self.params['W2'] = weight_init_std * np.random.randn(hidden_size, output_size)\n",
    "        self.params['b2'] = np.zeros(output_size)\n",
    "\n",
    "        self.layers = OrderedDict()\n",
    "        self.layers['Affine1'] = Affine(self.params['W1'], self.params['b1'])\n",
    "        self.layers['Relu1'] = ReLU()\n",
    "        self.layers['Affine2'] = Affine(self.params['W2'], self.params['b2'])\n",
    "\n",
    "        self.lastLayer = SoftmaxWithLoss()\n",
    "def predict(self, x):\n",
    "    for layer in self.layers.values():\n",
    "        x = layer.forward(x)\n",
    "\n",
    "    return x\n",
    "\n",
    "def loss(self, x, t):\n",
    "    y = self.predict(x)\n",
    "    return self.lastLayer.forward(y, t)\n",
    "\n",
    "def accuracy(self, x, t):\n",
    "    y = self.predict(x)\n",
    "    y = np.argmax(y, axis=1)\n",
    "    if t.ndim != 1: t = np.argmax(t, axis=1)\n",
    "\n",
    "    accuracy = np.sum(y == t) / float(x.shape[0])\n",
    "    return accuracy\n",
    "\n",
    "def numerical_gradient(self, x, t):\n",
    "    loss_W = lambda W: self.loss(x, t)\n",
    "\n",
    "    grads = {}\n",
    "    grads['W1'] = numerical_gradient(loss_W, self.params['W1'])\n",
    "    grads['b1'] = numerical_gradient(loss_W, self.params['b1'])\n",
    "    grads['W2'] = numerical_gradient(loss_W, self.params['W2'])\n",
    "    grads['b2'] = numerical_gradient(loss_W, self.params['b2'])\n",
    "\n",
    "    return grads\n",
    "def gradient(self, x, t):\n",
    "    self.loss(x, t)\n",
    "\n",
    "    dout = 1\n",
    "    dout = self.lastLayer.backward(dout)\n",
    "\n",
    "    layers = list(self.layers.values())\n",
    "    layers.reverse()\n",
    "    for layer in layers:\n",
    "        dout = layer.backward(dout)\n",
    "\n",
    "    grads = {}\n",
    "    grads['W1'] = self.layers['Affine1'].dW\n",
    "    grads['b1'] = self.layers['Affine1'].db\n",
    "    grads['W2'] = self.layers['Affine2'].dW\n",
    "    grads['b2'] = self.layers['Affine2'].db\n",
    "\n",
    "    return grads\n"
   ]
  },
  {
   "cell_type": "markdown",
   "metadata": {},
   "source": [
    "### 5.7.3 오차역전파법을 사용한 학습 구현하기\n",
    "- 수치미분의 결과와 오차역전파 결과를 비교해 오차역전파법이 제대로 구현되었는지 확인하는 기울기 확인 진행"
   ]
  },
  {
   "cell_type": "code",
   "execution_count": null,
   "metadata": {},
   "outputs": [],
   "source": [
    "import sys, os\n",
    "sys.path.append(os.pardir)\n",
    "import numpy as np\n",
    "from scratch.dataset.mnist import load_mnist\n",
    "from two_layer_net import TwoLayerNet\n",
    "\n",
    "(x_train, t_train), (x_test, t_test) = load_mnist(normalize=True, one_hot_label=True)\n",
    "\n",
    "network = TwoLayerNet(input_size=784, hidden_size=50, output_size=10)\n",
    "\n",
    "x_batch = x_train[:3]\n",
    "t_batch = t_train[:3]\n",
    "\n",
    "grad_numerical = network.numerical_gradient(x_batch, t_batch)\n",
    "grad_backprop = network.gradient(x_batch, t_batch)\n",
    "\n",
    "for key in grad_numerical.keys():\n",
    "    diff = np.average(np.abs(grad_backprop[key] - grad_numerical[key]))\n",
    "    print(key + \":\" + str(diff))\n",
    "\n",
    "'''결과\n",
    "W1:2.161013431743266e-13\n",
    "b1:9.07425231386016e-13\n",
    "W2:8.007279117077183e-13\n",
    "b2:1.201261681202712e-10\n",
    "'''"
   ]
  },
  {
   "cell_type": "markdown",
   "metadata": {},
   "source": [
    "### 5.7.4 오차역전파법을 사용한 학습 구현하기"
   ]
  },
  {
   "cell_type": "code",
   "execution_count": null,
   "metadata": {},
   "outputs": [],
   "source": [
    "import sys, os\n",
    "sys.path.append(os.pardir)\n",
    "import numpy as np\n",
    "from scratch.dataset.mnist import load_mnist\n",
    "from two_layer_net import TwoLayerNet\n",
    "\n",
    "(x_train, t_train), (x_test, t_test) = load_mnist(normalize=True, one_hot_label=True)\n",
    "\n",
    "network = TwoLayerNet(input_size=784, hidden_size=50, output_size=10)\n",
    "\n",
    "iters_num = 10000\n",
    "train_size = x_train.shape[0]\n",
    "batch_size = 100\n",
    "learning_rate = 0.1\n",
    "train_loss_list = []\n",
    "train_acc_list = []\n",
    "test_acc_list = []\n",
    "\n",
    "iter_per_epoch = max(train_size / batch_size, 1)\n",
    "\n",
    "for i in range(iters_num):\n",
    "    batch_mask = np.random.choice(train_size, batch_size)\n",
    "    x_batch = x_train[batch_mask]\n",
    "    t_batch = t_train[batch_mask]\n",
    "\n",
    "    grad = network.gradient(x_batch, t_batch)\n",
    "\n",
    "    for key in ('W1', 'b1', 'W2', 'b2'):\n",
    "        network.params[key] -= learning_rate * grad[key]\n",
    "\n",
    "    loss = network.loss(x_batch, t_batch)\n",
    "    train_loss_list.append(loss)\n",
    "\n",
    "    if i % iter_per_epoch == 0:\n",
    "        train_acc = network.accuracy(x_train, t_train)\n",
    "        test_acc = network.accuracy(x_test, t_test)\n",
    "        train_acc_list.append(train_acc)\n",
    "        test_acc_list.append(test_acc)\n",
    "        print(train_acc, test_acc)\n",
    "        "
   ]
  },
  {
   "cell_type": "markdown",
   "metadata": {},
   "source": [
    "## 5.8 정리\n",
    "- 계산 그래프를 이용하면 시각적으로 과정을 파악할 수 있음\n",
    "- 계산 그래프의 노드는 국소적 계산으로 진행하고 국소적 계산을 조합해 전체 계산을 구함\n",
    "- 계산 그래프의 순전파는 통상의 계산을 수행하고 계산그래프의 역전파로 각 노드의 미분을 구할 수 있음\n",
    "- 신경망의 구성 요소를 계층으로 구현하여 기울기를 효율적으로 계산할 수 있음\n",
    "- 수치미분과 오차역전법의 결과를 비교하면 오차 역전법의 구현에 잘못이 없는지 확인할 수 있음"
   ]
  },
  {
   "cell_type": "markdown",
   "metadata": {},
   "source": [
    "# 6. 학습관련 기술\n",
    "## 6.1 매개변수 갱신\n",
    "최적화 : 손실함수의 값을 가능한 낮추는 매개변수를 찾는 문제\n",
    "- 확률적 경사 하강법(SGD) : 매개변수의 기울기를 구해 기울어진 방향으로 매개변수 값을 갱신\n",
    "\n",
    "### 6.1.1 모험가 이야기\n",
    "- 땅의 기울기를 이용해 지금 서있는 장소에서 가장 가파른 길을 찾아 내려가는 것\n",
    "\n",
    "### 6.1.2 확률적 경사 하강법(SGD)\n",
    "- 매개변수 공간에서 손실함수의 기울기를 구해 기울어진 방향으로 매개변수 값을 갱신\n",
    "$$W \\leftarrow W - \\eta\\frac{\\partial L}{\\partial W}$$"
   ]
  },
  {
   "cell_type": "code",
   "execution_count": 77,
   "metadata": {},
   "outputs": [],
   "source": [
    "class SGD:\n",
    "    def __init__(self, lr=0.01):\n",
    "        self.lr = lr\n",
    "\n",
    "    def update(self, params, grads):\n",
    "        for key in params.keys():\n",
    "            params[key] -= self.lr * grads[key]\n",
    "\n"
   ]
  },
  {
   "cell_type": "markdown",
   "metadata": {},
   "source": [
    "- 최적화를 담당하는 클래스를 구분하고 기능을 모듈화\n",
    "\n",
    "### 6.1.3 SGD의 단점\n",
    "- 비등방성 함수(anisotropy function)에서는 탐색 경로가 비효율적\n",
    "    - 비등방성 함수 : 방향에따라 성질이나 기울기가 달라짐\n",
    "- SGD의 단점을 개선한 모멘텀, AdaGrad, Adam 등의 기법이 있음\n",
    "\n",
    "### 6.1.4 모멘텀\n",
    "- 모멘텀 : 운동량을 뜻하는 단어로, 기울기 방향으로 힘을 받아 물체가 가속됨\n",
    "\n",
    "$$v \\leftarrow \\alpha v - \\eta\\frac{\\partial L}{\\partial W}$$\n",
    "\n",
    "- v는 물체의 속도, m은 물체의 무게, F는 힘\n",
    "- SGD와 비교했을 때 x축 방향으로 빠르게 다가가 지그재그의 움직임이 줄어듬"
   ]
  },
  {
   "cell_type": "code",
   "execution_count": null,
   "metadata": {},
   "outputs": [],
   "source": [
    "class Momentum:\n",
    "    def __init__(self, lr=0.01, momentum=0.9):\n",
    "        self.lr = lr\n",
    "        self.momentum = momentum\n",
    "        self.v = None\n",
    "\n",
    "    def update(self, params, grads):\n",
    "        if self.v is None:\n",
    "            self.v = {}\n",
    "            for key, val in params.items():\n",
    "                self.v[key] = np.zeros_like(val)\n",
    "\n",
    "        for key in params.keys():\n",
    "            self.v[key] = self.momentum * self.v[key] - self.lr * grads[key]\n",
    "            params[key] += self.v[key]\n",
    "            "
   ]
  },
  {
   "cell_type": "markdown",
   "metadata": {},
   "source": [
    "### 6.1.5 AdaGrad\n",
    "- 학습률 감소 : 학습률을 서서히 낮추는 방법\n",
    "- 매개변수의 원소마다 적응적으로 갱신 정도를 조정\n",
    "- 행렬의 원소별 곱셈 후 학슙를 더해 갱신\n",
    "$$h \\leftarrow h + \\frac{\\partial L}{\\partial W} \\odot \\frac{\\partial L}{\\partial W}$$\n",
    "$$W \\leftarrow W - \\eta\\frac{1}{\\sqrt{h}}\\frac{\\partial L}{\\partial W}$$\n",
    "- 과거의 기울기를 계속 제곱해 더해 학습 진행시 갱신 강도가 약해짐\n",
    "- 무한히 학습시 순간 갱신량이 0이 되어 갱신하지 않음\n",
    "    - RMSProp : 지수이동평균을 사용해 과거 기울기의 반영 규모를 기하급수적으로 감소시킴, 과거의 기울기를 서서히 잊음\n"
   ]
  },
  {
   "cell_type": "code",
   "execution_count": null,
   "metadata": {},
   "outputs": [],
   "source": [
    "class AdaGrad:\n",
    "    def __init__(self, lr=0.01):\n",
    "        self.lr = lr\n",
    "        self.h = None\n",
    "\n",
    "    def update(self, params, grads):\n",
    "        if self.h is None:\n",
    "            self.h = {}\n",
    "            for key, val in params.items():\n",
    "                self.h[key] = np.zeros_like(val)\n",
    "\n",
    "        for key in params.keys():\n",
    "            self.h[key] += grads[key] * grads[key]\n",
    "            params[key] -= self.lr * grads[key] / (np.sqrt(self.h[key]) + 1e-7)"
   ]
  },
  {
   "cell_type": "markdown",
   "metadata": {},
   "source": [
    "### 6.1.6 Adam\n",
    "- 공이 바닥을 구르는 듯한 모멘텀과 매개변수의 원소마다 적응적으로 갱신 정도를 조정하는 AdaGrad를 합침\n",
    "- 하이퍼파라미터의 편향 보정이 진행됨\n",
    "- 하이퍼파라미터를 3개 설정(학습률, 일차 모멘텀용 계수, 이차 모멘텀용 계수)\n",
    "\n",
    "\n",
    "### 6.1.7 어느 갱신 방법을 이용할 것인가?\n",
    "\n",
    "- 학습마다 장단점이 있어 적절한 기법을 선택해야함\n",
    "- 하이퍼파라미터의 설정이 중요\n",
    "\n",
    "### 6.1.8 MNIST 데이터셋으로 본 갱신 방법 비교\n",
    "- MNIST 데이터셋으로 각 최적화 기법을 비교\n",
    "- 학습 진도가 빠른 Adam이 가장 빠르게 학습\n",
    "- SGD가 가장 느림(하이퍼파라미터에 따라 달라짐)"
   ]
  },
  {
   "cell_type": "markdown",
   "metadata": {},
   "source": []
  }
 ],
 "metadata": {
  "kernelspec": {
   "display_name": "DL",
   "language": "python",
   "name": "python3"
  },
  "language_info": {
   "codemirror_mode": {
    "name": "ipython",
    "version": 3
   },
   "file_extension": ".py",
   "mimetype": "text/x-python",
   "name": "python",
   "nbconvert_exporter": "python",
   "pygments_lexer": "ipython3",
   "version": "3.10.4"
  }
 },
 "nbformat": 4,
 "nbformat_minor": 2
}
